{
 "metadata": {
  "language_info": {
   "codemirror_mode": {
    "name": "ipython",
    "version": 3
   },
   "file_extension": ".py",
   "mimetype": "text/x-python",
   "name": "python",
   "nbconvert_exporter": "python",
   "pygments_lexer": "ipython3",
   "version": 3
  },
  "orig_nbformat": 2
 },
 "nbformat": 4,
 "nbformat_minor": 2,
 "cells": [
  {
   "cell_type": "code",
   "execution_count": null,
   "metadata": {},
   "outputs": [],
   "source": [
    "try:\n",
    "    # int('abc')\n",
    "    sun = 1+'1'\n",
    "    f = open('这是一个文件.txt')\n",
    "    print(f.read())\n",
    "    f.close()"
   ]
  },
  {
   "cell_type": "code",
   "execution_count": null,
   "metadata": {},
   "outputs": [],
   "source": [
    "except OSError as reason:\n",
    "        print('文件出错啦T_T\\n错误的原因是：' + str(reason))\n",
    "except TypeError as reason:\n",
    "        print('文件出错啦T_T\\n错误的原因是：' + str(reason))"
   ]
  },
  {
   "cell_type": "code",
   "execution_count": null,
   "metadata": {},
   "outputs": [],
   "source": [
    "try:\n",
    "    f = open('test_file.txt', 'wb')\n",
    "    print(f.write('This is a test file.'))\n",
    "    sum = 1 + '1'\n",
    "    # f.close()\n",
    "except (OSError,TypeError):\n",
    "    print('文件出错啦T_T')\n",
    "finally:\n",
    "    f.close()"
   ]
  }
 ]
}