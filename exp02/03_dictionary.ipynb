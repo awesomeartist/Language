{
 "metadata": {
  "language_info": {
   "codemirror_mode": {
    "name": "ipython",
    "version": 3
   },
   "file_extension": ".py",
   "mimetype": "text/x-python",
   "name": "python",
   "nbconvert_exporter": "python",
   "pygments_lexer": "ipython3",
   "version": "3.7.0"
  },
  "orig_nbformat": 2,
  "kernelspec": {
   "name": "python370jvsc74a57bd0429c9996d59adc7f4cefc806ef40bdc5f24259d7042b8b8803fdb2f234fb1764",
   "display_name": "Python 3.7.0 64-bit ('base': conda)"
  }
 },
 "nbformat": 4,
 "nbformat_minor": 2,
 "cells": [
  {
   "source": [
    "### 一般关系索引示例（序列关系）"
   ],
   "cell_type": "markdown",
   "metadata": {}
  },
  {
   "cell_type": "code",
   "execution_count": null,
   "metadata": {},
   "outputs": [],
   "source": [
    "\n",
    "brand = ['lining','nike','adidas','liang']\n",
    "slogan = ['Every is possible!','Just do it!','Impossible is nothing!','Make the world better!']\n",
    "\n",
    "print('The slogan of liang is:',slogan[brand.index('liang')])\n"
   ]
  },
  {
   "source": [
    "### 字典创建示例（映射关系）"
   ],
   "cell_type": "markdown",
   "metadata": {}
  },
  {
   "cell_type": "code",
   "execution_count": 1,
   "metadata": {},
   "outputs": [
    {
     "output_type": "stream",
     "name": "stdout",
     "text": [
      "The slogan of nike is: Just do it!\none\n115\nMake the world better!\n"
     ]
    }
   ],
   "source": [
    "#直接创建字典\n",
    "dict1 = {'lining':'Everything is passible!','nike':'Just do it!','adidas':'Impossible is nothing!','liang':'Make the world better!'}\n",
    "dict2 = {1:'one',2:'two',3:'three',4:'four'}\n",
    "\n",
    "#dict方法创建\n",
    "dict3 = dict((('F',70),('i',105),('s',115),('h',104),('C',67)))\n",
    "dict4 = dict(nike = 'Just do it!',liang = 'Make the world better!')\n",
    "\n",
    "print('The slogan of nike is:',dict1['nike'])\n",
    "print('1:', dict2[1])\n",
    "print('s:', dict3['s'])\n",
    "print('liang', dict4['liang'])\n"
   ]
  },
  {
   "source": [
    "### 字典修改"
   ],
   "cell_type": "markdown",
   "metadata": {}
  },
  {
   "cell_type": "code",
   "execution_count": 3,
   "metadata": {},
   "outputs": [
    {
     "output_type": "stream",
     "name": "stdout",
     "text": [
      "dict4 = {'nike': 'Just do it!', 'liang': 'To be or not to be!', 'lining': 'Everything is possible!'}\nThe slogan of liang is: To be or not to be!\n"
     ]
    }
   ],
   "source": [
    "\n",
    "dict4['lining'] = 'Everything is possible!' #如果键不存在则创建新的键\n",
    "print('dict4 =', dict4)\n",
    "dict4['liang'] = 'To be or not to be!'\n",
    "print('The slogan of liang is:',dict4['liang'])\n"
   ]
  },
  {
   "source": [
    "### 字典创建方法`fromkey()`"
   ],
   "cell_type": "markdown",
   "metadata": {}
  },
  {
   "cell_type": "code",
   "execution_count": 6,
   "metadata": {},
   "outputs": [
    {
     "output_type": "stream",
     "name": "stdout",
     "text": [
      "dict1 = {1: None, 2: None, 3: None}\ndict1 = {1: 'number', 2: 'number', 3: 'number'}\ndict1 = {1: ('one', 'two', 'three'), 2: ('one', 'two', 'three'), 3: ('one', 'two', 'three')}\ndict1 = {1: 'figure', 2: 'figure'}\n"
     ]
    }
   ],
   "source": [
    "\n",
    "dict1 = {}\n",
    "dict1 = dict1.fromkeys((1,2,3))\n",
    "print('dict1 =', dict1)\n",
    "dict1 = dict1.fromkeys((1,2,3),'number')\n",
    "print('dict1 =', dict1)\n",
    "dict1 = dict1.fromkeys((1,2,3),('one','two','three')) #不能将第二个参数内元素分别赋值给key\n",
    "print('dict1 =', dict1)\n",
    "dict1 = dict1.fromkeys((1,2),'figure')\n",
    "print('dict1 =', dict1)\n"
   ]
  },
  {
   "source": [
    "### 字典不同元素的输出"
   ],
   "cell_type": "markdown",
   "metadata": {}
  },
  {
   "cell_type": "code",
   "execution_count": 7,
   "metadata": {},
   "outputs": [
    {
     "output_type": "stream",
     "name": "stdout",
     "text": [
      "0\n1\n2\n3\n4\n5\n6\n7\n8\n9\n10\n11\n12\n13\n14\n15\n16\n17\n18\n19\n20\n21\n22\n23\n24\n25\n26\n27\n28\n29\n30\n31\nzan\nzan\nzan\nzan\nzan\nzan\nzan\nzan\nzan\nzan\nzan\nzan\nzan\nzan\nzan\nzan\nzan\nzan\nzan\nzan\nzan\nzan\nzan\nzan\nzan\nzan\nzan\nzan\nzan\nzan\nzan\nzan\n(0, 'zan')\n(1, 'zan')\n(2, 'zan')\n(3, 'zan')\n(4, 'zan')\n(5, 'zan')\n(6, 'zan')\n(7, 'zan')\n(8, 'zan')\n(9, 'zan')\n(10, 'zan')\n(11, 'zan')\n(12, 'zan')\n(13, 'zan')\n(14, 'zan')\n(15, 'zan')\n(16, 'zan')\n(17, 'zan')\n(18, 'zan')\n(19, 'zan')\n(20, 'zan')\n(21, 'zan')\n(22, 'zan')\n(23, 'zan')\n(24, 'zan')\n(25, 'zan')\n(26, 'zan')\n(27, 'zan')\n(28, 'zan')\n(29, 'zan')\n(30, 'zan')\n(31, 'zan')\n"
     ]
    }
   ],
   "source": [
    "dict2 = {}\n",
    "dict2 = dict2.fromkeys(range(32),'zan')\n",
    "for eachKey in dict2.keys():\n",
    "    print(eachKey)\n",
    "for eachValue in dict2.values():\n",
    "    print(eachValue)\n",
    "for eachItem in dict2.items():\n",
    "    print(eachItem)"
   ]
  },
  {
   "cell_type": "code",
   "execution_count": 11,
   "metadata": {},
   "outputs": [
    {
     "output_type": "stream",
     "name": "stdout",
     "text": [
      "None\nzan\nnothing\nzan\n"
     ]
    }
   ],
   "source": [
    "print(dict2.get(32))\n",
    "#print(dict2[32])               #直接通过键获取字典的值，键不存在则报错\n",
    "print(dict2.get(32,'nothing'))  #get方法获取子=字典的值，不存在则建立新的键\n",
    "print(dict2.get(21,'nothing'))\n"
   ]
  },
  {
   "source": [
    "### 字典拷贝"
   ],
   "cell_type": "markdown",
   "metadata": {}
  },
  {
   "cell_type": "code",
   "execution_count": 12,
   "metadata": {},
   "outputs": [
    {
     "output_type": "stream",
     "name": "stdout",
     "text": [
      "dict3 =  {'name': 'liang'}\ndict4 =  {'name': 'liang'}\ndict3 =  {}\ndict4 =  {'name': 'liang'}\ndict3 =  {}\ndict4 =  {}\n"
     ]
    }
   ],
   "source": [
    "dict3 = {'name':'liang'}\n",
    "dict4 = dict3\n",
    "print('dict3 = ',dict3)\n",
    "print('dict4 = ',dict4)\n",
    "dict3 = {}      #dict3标签指向空字典，dict4仍指向原字典\n",
    "print('dict3 = ',dict3)\n",
    "print('dict4 = ',dict4)\n",
    "dict3 = dict4   #浅拷贝\n",
    "dict4.clear()\n",
    "print('dict3 = ',dict3)\n",
    "print('dict4 = ',dict4)"
   ]
  },
  {
   "source": [
    "### 字典的一些方法属性"
   ],
   "cell_type": "markdown",
   "metadata": {}
  },
  {
   "cell_type": "code",
   "execution_count": 15,
   "metadata": {},
   "outputs": [
    {
     "output_type": "stream",
     "name": "stdout",
     "text": [
      "dict5_ID: 2479443531384 \ndict5_ID: 2479443531384 \ndict7_ID: 2479443531240\n\n dict5 =  {1: 'one', 2: 'two', 3: 'three'} \ndict6 =  {1: 'one', 2: 'two', 3: 'three'} \ndict7 =  {1: 'one', 2: 'two', 3: 'three', 4: 'four'}\n2: two\npopitem: (4, 'four')\ndict7 =  {1: 'one', 3: 'three', 5: 'five'}\nfive\ndict7 =  {1: 'one', 3: 'three', 5: 'five', 6: None}\n\ndict7 =  {1: 'first', 3: 'three', 5: 'five', 6: None}\n"
     ]
    }
   ],
   "source": [
    "#copy()方法\n",
    "dict5 = {1:'one',2:'two',3:'three'}\n",
    "dict6 = dict5\n",
    "dict7 = dict5.copy()\n",
    "print('dict5_ID:',id(dict5),'\\ndict5_ID:',id(dict6),'\\ndict7_ID:',id(dict7))\n",
    "\n",
    "#pop()和popitem()方法\n",
    "dict7[4] = 'four'\n",
    "print('\\n dict5 = ',dict5,'\\ndict6 = ',dict6,'\\ndict7 = ',dict7)\n",
    "print('2:', dict7.pop(2))\n",
    "print('popitem:', dict7.popitem())\n",
    "\n",
    "#setdefalt()方法\n",
    "dict7.setdefault(5,'five')\n",
    "print('dict7 = ',dict7)\n",
    "dict7.setdefault(6)\n",
    "print(dict7.setdefault(5))\n",
    "print('dict7 = ',dict7)\n",
    "dict8 = {1:'first'}\n",
    "\n",
    "#update()方法\n",
    "dict7.update(dict8)\n",
    "print('\\ndict7 = ',dict7)"
   ]
  },
  {
   "cell_type": "code",
   "execution_count": null,
   "metadata": {},
   "outputs": [],
   "source": []
  }
 ]
}