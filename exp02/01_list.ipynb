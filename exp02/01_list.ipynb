{
 "cells": [
  {
   "cell_type": "markdown",
   "metadata": {},
   "source": [
    "### 列表操作方法`append()`和`extend()`"
   ]
  },
  {
   "cell_type": "code",
   "execution_count": null,
   "metadata": {},
   "outputs": [],
   "source": [
    "mix=[1,'apple',3.14,[1,2,3]]\n",
    "print('mix =', mix)\n",
    "\n",
    "mix.append('car')\n",
    "print('\\n After append string \\'car\\' the list mix =', mix)\n",
    "\n",
    "#注意结果是迭代插入列表中的元素，而不是将列表当作元素插入列表\n",
    "mix.extend(['bus',4])\n",
    "print('\\n After extend list \\'[\\'bus\\',4]\\' the list mix =', mix)  "
   ]
  },
  {
   "cell_type": "markdown",
   "metadata": {},
   "source": [
    "### 列表操作方法`insert()`和`index()`"
   ]
  },
  {
   "cell_type": "code",
   "execution_count": null,
   "metadata": {},
   "outputs": [],
   "source": [
    "\n",
    "mix.insert(1,'dog')\n",
    "print('mix = ', mix)\n",
    "print(f'mix[1] = {mix[1]}')\n",
    "\n",
    "temp=mix.index('dog')\n",
    "print('mix.index(\\'dog\\') =',temp)\n"
   ]
  },
  {
   "cell_type": "markdown",
   "metadata": {},
   "source": [
    "### 列表操作方法`remove()`"
   ]
  },
  {
   "cell_type": "code",
   "execution_count": null,
   "metadata": {},
   "outputs": [],
   "source": [
    "print('\\n mix =', mix)\n",
    "mix.remove('dog')\n",
    "print('\\n mix =', mix)"
   ]
  },
  {
   "cell_type": "markdown",
   "metadata": {},
   "source": [
    "### 列表操作方法`del()`和`pop()`,以及列表分片"
   ]
  },
  {
   "cell_type": "code",
   "execution_count": null,
   "metadata": {},
   "outputs": [],
   "source": [
    "print('mix =', mix)\n",
    "del mix[4]\n",
    "print('mix =', mix)\n",
    "\n",
    "temp=mix.pop()\n",
    "print(temp)\n",
    "print(mix)\n",
    "\n",
    "print(mix[1:4])\n",
    "print(mix[:])"
   ]
  },
  {
   "cell_type": "markdown",
   "metadata": {},
   "source": [
    "### 列表比较"
   ]
  },
  {
   "cell_type": "code",
   "execution_count": null,
   "metadata": {},
   "outputs": [],
   "source": [
    "list1 = [1,22,3,4]\n",
    "list2 = [2,2,3]\n",
    "print(list1 < list2)    #从第一个元素开始比较，直到判断为True,否则为False"
   ]
  },
  {
   "cell_type": "code",
   "execution_count": null,
   "metadata": {},
   "outputs": [],
   "source": [
    "list1 = [123,234]\n",
    "list2 = [234,345]\n",
    "list3 = [234,345]\n",
    "print(list2 == list3)   #比较所有对应元素相同为True,否则为False\n",
    "print((list1 < list2) and (list2 == list3))\n",
    "list4 = list2 + list3\n",
    "print('list2 + list3 =', list4)"
   ]
  },
  {
   "cell_type": "code",
   "execution_count": null,
   "metadata": {},
   "outputs": [],
   "source": [
    "list4 .append(['apple','bus'])\n",
    "print('list4 =', list4)\n",
    "print(33 not in list4)\n",
    "print(234 not in list4)\n",
    "print('bus'not in list4)    #只与列表中元素比较，不进一步比较元素内的子元素\n",
    "print(list4[4][1])"
   ]
  },
  {
   "cell_type": "markdown",
   "metadata": {},
   "source": [
    "### 列表操作方法`reverse()`"
   ]
  },
  {
   "cell_type": "code",
   "execution_count": null,
   "metadata": {},
   "outputs": [],
   "source": [
    "\n",
    "print('The number of 234 in list4 =', list4.count(234))\n",
    "print('list4.index(345, 2, 4) =', list4.index(345, 2, 4))\n",
    "print('\\nlist4 =', list4)\n",
    "list4.reverse()\n",
    "print('After reverse:')\n",
    "print('list4 =',list4)"
   ]
  },
  {
   "cell_type": "markdown",
   "metadata": {},
   "source": [
    "### 列表操作方法`sort()`"
   ]
  },
  {
   "cell_type": "code",
   "execution_count": null,
   "metadata": {},
   "outputs": [],
   "source": [
    "list5 = [3 ,55 ,9 ,45 ,22 ,90]\n",
    "print('list5 =', list5)\n",
    "list5.sort()\n",
    "print('\\nAfter sort:')\n",
    "print('list5 =', list5)\n",
    "list5.sort(reverse = True)\n",
    "print('\\nAfter sort with reverse:')\n",
    "print('list5 =', list5)"
   ]
  },
  {
   "cell_type": "markdown",
   "metadata": {},
   "source": [
    "### 列表操作方法`copy()`"
   ]
  },
  {
   "cell_type": "code",
   "execution_count": null,
   "metadata": {},
   "outputs": [],
   "source": [
    "print('Origin of list5:')\n",
    "print('list5 =', list5)\n",
    "list6 = list5\n",
    "list7 = list5.copy()\n",
    "list5.reverse()\n",
    "print('After process:')\n",
    "print('list5 =', list5)\n",
    "print('list6 =', list6)\n",
    "print('list7 =', list7)"
   ]
  }
 ],
 "metadata": {
  "kernelspec": {
   "display_name": "Python 3.7.0 64-bit ('base': conda)",
   "name": "python370jvsc74a57bd0429c9996d59adc7f4cefc806ef40bdc5f24259d7042b8b8803fdb2f234fb1764"
  },
  "language_info": {
   "codemirror_mode": {
    "name": "ipython",
    "version": 3
   },
   "file_extension": ".py",
   "mimetype": "text/x-python",
   "name": "python",
   "nbconvert_exporter": "python",
   "pygments_lexer": "ipython3",
   "version": "3.7.0"
  },
  "orig_nbformat": 2
 },
 "nbformat": 4,
 "nbformat_minor": 2
}
