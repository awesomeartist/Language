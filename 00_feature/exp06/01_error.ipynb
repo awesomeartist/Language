{
 "cells": [
  {
   "cell_type": "code",
   "execution_count": null,
   "metadata": {},
   "outputs": [],
   "source": [
    "try:\n",
    "    # int('abc')\n",
    "    sun = 1+'1'\n",
    "    f = open('这是一个文件.txt')\n",
    "    print(f.read())\n",
    "    f.close()\n",
    "\n",
    "except OSError as reason:\n",
    "        print('文件出错啦T_T\\n错误的原因是：' + str(reason))"
   ]
  },
  {
   "cell_type": "code",
   "execution_count": null,
   "metadata": {},
   "outputs": [],
   "source": [
    "try:\n",
    "    # int('abc')\n",
    "    sun = 1+'1'\n",
    "    f = open('这是一个文件.txt')\n",
    "    print(f.read())\n",
    "    f.close()\n",
    "    \n",
    "except TypeError as reason:\n",
    "        print('文件出错啦T_T\\n错误的原因是：' + str(reason))"
   ]
  },
  {
   "cell_type": "code",
   "execution_count": null,
   "metadata": {},
   "outputs": [],
   "source": [
    "try:\n",
    "    f = open('test_file.txt', 'wb')\n",
    "    print(f.write('This is a test file.'))\n",
    "    sum = 1 + '1'\n",
    "    # f.close()\n",
    "except (OSError,TypeError):\n",
    "    print('文件出错啦T_T')\n",
    "finally:\n",
    "    f.close()"
   ]
  }
 ],
 "metadata": {
  "kernelspec": {
   "display_name": "base",
   "language": "python",
   "name": "python3"
  },
  "language_info": {
   "codemirror_mode": {
    "name": "ipython",
    "version": 3
   },
   "file_extension": ".py",
   "mimetype": "text/x-python",
   "name": "python",
   "nbconvert_exporter": "python",
   "pygments_lexer": "ipython3",
   "version": "3.9.13"
  },
  "orig_nbformat": 2,
  "vscode": {
   "interpreter": {
    "hash": "d90689ccb134b02d2b717750ee46bb350a63570d9feb13d7ed55128a5122d130"
   }
  }
 },
 "nbformat": 4,
 "nbformat_minor": 2
}
