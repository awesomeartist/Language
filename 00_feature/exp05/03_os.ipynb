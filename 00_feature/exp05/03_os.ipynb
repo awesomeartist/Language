{
 "cells": [
  {
   "cell_type": "code",
   "execution_count": null,
   "metadata": {},
   "outputs": [],
   "source": [
    "import os\n",
    "\n",
    "os.getcwd()\n"
   ]
  },
  {
   "cell_type": "code",
   "execution_count": null,
   "metadata": {},
   "outputs": [],
   "source": [
    "\n",
    "\n",
    "os.chdir('c:\\\\Users\\\\liang\\\\Desktop\\\\Graduate Works\\\\Python\\\\CODES')    #改变当前路径\n",
    "os.getcwd()\n"
   ]
  },
  {
   "cell_type": "code",
   "execution_count": null,
   "metadata": {},
   "outputs": [],
   "source": [
    "\n",
    "os.listdir()    #列出当前目录存在的文件\n"
   ]
  },
  {
   "cell_type": "code",
   "execution_count": null,
   "metadata": {},
   "outputs": [],
   "source": [
    "os.chdir('c:\\\\Users\\\\liang\\\\Desktop')\n",
    "os.getcwd()\n",
    "os.mkdir('A')   #创建单层目录，目录已存在报错\n",
    "os.makedirs('c:\\\\Users\\\\liang\\\\Desktop\\\\B\\\\C')  #创建多层目录，目录已存在报错\n"
   ]
  },
  {
   "cell_type": "code",
   "execution_count": null,
   "metadata": {},
   "outputs": [],
   "source": [
    "test = open('.\\\\A\\\\test.txt','w')\n",
    "test.close()\n",
    "\n",
    "os.remove('.\\\\A\\\\test.txt')\n",
    "os.rmdir('A')   #目录非空时，无法删除\n",
    "\n"
   ]
  },
  {
   "cell_type": "code",
   "execution_count": null,
   "metadata": {},
   "outputs": [],
   "source": [
    "\n",
    "# os.system('cmd')  #打开系统命令行窗口\n",
    "os.system('calc')   #打开系统计算器"
   ]
  },
  {
   "cell_type": "code",
   "execution_count": null,
   "metadata": {},
   "outputs": [],
   "source": [
    "\n",
    "os.curdir   #指代当前目录\n",
    "os.pardir   #指代上一层目录\n",
    "os.listdir(os.curdir)\n"
   ]
  },
  {
   "cell_type": "code",
   "execution_count": null,
   "metadata": {},
   "outputs": [],
   "source": [
    "\n",
    "os.sep      #输出操作系统特定的路径分隔符（Windows为'\\\\'，Linux为'/'\n",
    "os.linesep  #当前平台使用的终止符\n",
    "os.name     #指代当前操作系统\n"
   ]
  },
  {
   "cell_type": "code",
   "execution_count": null,
   "metadata": {},
   "outputs": [],
   "source": []
  }
 ],
 "metadata": {
  "kernelspec": {
   "display_name": "yolov5",
   "language": "python",
   "name": "python3"
  },
  "language_info": {
   "codemirror_mode": {
    "name": "ipython",
    "version": 3
   },
   "file_extension": ".py",
   "mimetype": "text/x-python",
   "name": "python",
   "nbconvert_exporter": "python",
   "pygments_lexer": "ipython3",
   "version": "3.8.16"
  },
  "orig_nbformat": 2,
  "vscode": {
   "interpreter": {
    "hash": "8ab81d8c6c33f441aacc2ae501ce94c0323f337dc3eadc40dd17e3e003c4b6ec"
   }
  }
 },
 "nbformat": 4,
 "nbformat_minor": 2
}
