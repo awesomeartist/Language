{
 "metadata": {
  "language_info": {
   "codemirror_mode": {
    "name": "ipython",
    "version": 3
   },
   "file_extension": ".py",
   "mimetype": "text/x-python",
   "name": "python",
   "nbconvert_exporter": "python",
   "pygments_lexer": "ipython3",
   "version": "3.7.0"
  },
  "orig_nbformat": 2,
  "kernelspec": {
   "name": "python370jvsc74a57bd0429c9996d59adc7f4cefc806ef40bdc5f24259d7042b8b8803fdb2f234fb1764",
   "display_name": "Python 3.7.0 64-bit ('base': conda)"
  }
 },
 "nbformat": 4,
 "nbformat_minor": 2,
 "cells": [
  {
   "source": [
    "### 计算 2^n"
   ],
   "cell_type": "markdown",
   "metadata": {}
  },
  {
   "cell_type": "code",
   "execution_count": 1,
   "metadata": {},
   "outputs": [
    {
     "output_type": "stream",
     "name": "stdout",
     "text": [
      "2 ^ 5 = 32\n"
     ]
    }
   ],
   "source": [
    "\n",
    "def recursion(n):\n",
    "        if n > 1:\n",
    "            return 2 * recursion(n - 1) \n",
    "        else:\n",
    "            return 2\n",
    "\n",
    "num1 = 5\n",
    "num2 = 12\n",
    "print('2 ^ %d =' % 5,recursion(num1))"
   ]
  },
  {
   "source": [
    "### 计算 n!"
   ],
   "cell_type": "markdown",
   "metadata": {}
  },
  {
   "cell_type": "code",
   "execution_count": 3,
   "metadata": {},
   "outputs": [
    {
     "output_type": "stream",
     "name": "stdout",
     "text": [
      "5! =  120\n"
     ]
    }
   ],
   "source": [
    "def factorial(n):\n",
    "    if n > 1:\n",
    "        return n * factorial(n - 1)\n",
    "    else:\n",
    "        return 1\n",
    "\n",
    "num1 = 5\n",
    "num2 = 12\n",
    "print('%d! = ' % 5,factorial(num1))"
   ]
  },
  {
   "source": [
    "### 使用递归计算 Fibonacii 数列"
   ],
   "cell_type": "markdown",
   "metadata": {}
  },
  {
   "cell_type": "code",
   "execution_count": null,
   "metadata": {},
   "outputs": [],
   "source": [
    "def Fibonacii(n):\n",
    "    if n < 1:\n",
    "        print('input invalid!')\n",
    "        return -1\n",
    "    elif n < 3:\n",
    "        return 1\n",
    "    elif n > 2:\n",
    "        return Fibonacii(n-1) + Fibonacii(n-2)\n",
    "\n",
    "num1 = 5\n",
    "num2 = 12\n",
    "print('Fibonacii %d' % 10 ,Fibonacii(num2))"
   ]
  },
  {
   "source": [
    "### 使用循环计算 Fibonacii 数列"
   ],
   "cell_type": "markdown",
   "metadata": {}
  },
  {
   "cell_type": "code",
   "execution_count": 4,
   "metadata": {},
   "outputs": [
    {
     "output_type": "stream",
     "name": "stdout",
     "text": [
      "fibonacii 10 144\n"
     ]
    }
   ],
   "source": [
    "def fibonacii(n):\n",
    "    m = 2\n",
    "    num1 = 1\n",
    "    num2 = 1\n",
    "    if n < 1:\n",
    "        print('input invalid!')\n",
    "        return -1\n",
    "    elif n < 3:\n",
    "        Sum = 1\n",
    "    elif n > 2:\n",
    "        while m < n:\n",
    "            Sum = num1 + num2\n",
    "            num1 = num2\n",
    "            num2 = Sum\n",
    "            m += 1\n",
    "    return Sum\n",
    "\n",
    "num1 = 5\n",
    "num2 = 12\n",
    "print('fibonacii %d' % 10 ,fibonacii(num2))"
   ]
  },
  {
   "source": [
    "### 递归获取汉诺塔移动顺序"
   ],
   "cell_type": "markdown",
   "metadata": {}
  },
  {
   "cell_type": "code",
   "execution_count": 6,
   "metadata": {},
   "outputs": [
    {
     "output_type": "stream",
     "name": "stdout",
     "text": [
      "A -> Z\nA -> B\nZ -> B\nA -> Z\nB -> A\nB -> Z\nA -> Z\n"
     ]
    }
   ],
   "source": [
    "def Hanoi(n,x,y,z):\n",
    "\n",
    "    if n == 1:\n",
    "        print(x,'->',z)\n",
    "    else:\n",
    "        Hanoi(n-1,x ,z ,y)\n",
    "        print(x,'->',z)\n",
    "        Hanoi(n-1,y ,x ,z)\n",
    "\n",
    "x = 'A'\n",
    "y = 'B'\n",
    "z = 'Z'\n",
    "Hanoi(3, x, y, z)"
   ]
  },
  {
   "cell_type": "code",
   "execution_count": null,
   "metadata": {},
   "outputs": [],
   "source": []
  }
 ]
}