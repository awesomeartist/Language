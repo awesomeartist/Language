{
 "cells": [
  {
   "cell_type": "markdown",
   "metadata": {},
   "source": [
    "## 面向对象(Object Oriented)\n",
    "### 面向对象的特征\n",
    "\n",
    " 封装\n",
    "\n",
    " 继承\n",
    "\n",
    " 多态"
   ]
  },
  {
   "cell_type": "code",
   "execution_count": 13,
   "metadata": {},
   "outputs": [
    {
     "name": "stdout",
     "output_type": "stream",
     "text": [
      "Bite you!\n",
      "turtle legs = : 4\n"
     ]
    }
   ],
   "source": [
    "# 类的简单例子\n",
    "# 封装\n",
    "class Turtle:   #Python约定类名以大写字母开头\n",
    "    \n",
    "    # Attribute\n",
    "    color = 'green'\n",
    "    weight = 10\n",
    "    legs = 4\n",
    "    shell = True\n",
    "    mouth = 'big mouth'\n",
    "\n",
    "    # Method\n",
    "    def climb(self):\n",
    "        print(\"I am climbing forward hardly...\")\n",
    "    \n",
    "    def run(self):\n",
    "        print('I am climbing forward hardly...')\n",
    "    \n",
    "    def bite(self):\n",
    "        print('Bite you!')\n",
    "\n",
    "    def eat(self):\n",
    "        print('The fishes tastes delicious!')\n",
    "\n",
    "    def sleep(self):\n",
    "        print('Good night!')\n",
    "\n",
    "turtle = Turtle()\n",
    "turtle.bite()\n",
    "print('turtle legs = :', turtle.legs)\n"
   ]
  },
  {
   "attachments": {},
   "cell_type": "markdown",
   "metadata": {},
   "source": [
    "### 继承"
   ]
  },
  {
   "cell_type": "code",
   "execution_count": null,
   "metadata": {},
   "outputs": [],
   "source": [
    "\n",
    "class Mylist(list):\n",
    "    pass\n",
    "list2 = Mylist()\n",
    "\n",
    "list2.append(1)\n",
    "list2.extend([10, 7, 9])\n",
    "\n",
    "print('list2 = ', list2)\n",
    "list2.sort()\n",
    "# list3 = list2.sort() #不是工厂函数不返回对象\n",
    "print('list2.sort() =', list2)\n"
   ]
  },
  {
   "cell_type": "code",
   "execution_count": null,
   "metadata": {},
   "outputs": [],
   "source": [
    "#类初始化方法\n",
    "class Ball(object):\n",
    "    def __init__(self, name):\n",
    "        self.name = name\n",
    "    \n",
    "    def kick(self):\n",
    "        print('我叫%s,该死的，谁踢我！' %self.name)\n",
    "\n",
    "a = Ball('球A')\n",
    "b = Ball('球B')\n",
    "\n",
    "a.kick()\n",
    "b.kick()"
   ]
  },
  {
   "cell_type": "code",
   "execution_count": null,
   "metadata": {},
   "outputs": [],
   "source": [
    "# 私有变量\n",
    "class Person(object):\n",
    "    __name = '小甲鱼'\n",
    "\n",
    "    def GetName(self):\n",
    "        return self.__name\n",
    "\n",
    "p = Person()\n",
    "# print(p.__name)   #不能访问，报错\n",
    "print(p.GetName())\n",
    "print(p._Person__name)"
   ]
  },
  {
   "attachments": {},
   "cell_type": "markdown",
   "metadata": {},
   "source": [
    "### 多态"
   ]
  },
  {
   "cell_type": "code",
   "execution_count": null,
   "metadata": {},
   "outputs": [],
   "source": [
    "\n",
    "class Animal(object):\n",
    "    def jiao(self):\n",
    "        pass\n",
    "    def run(self):\n",
    "        print('正在调用父类方法run()···')\n",
    "#继承\n",
    "class Dog(Animal):\n",
    "    def jiao(self):\n",
    "        print('汪汪汪···')\n",
    "\n",
    "class Cat(Animal):\n",
    "    def jiao(self):\n",
    "        print('喵喵喵···')\n",
    "\n",
    "class Sheep(Animal):\n",
    "    def run(self):  # 重写父类方法会覆盖原方法\n",
    "        print('正在调用子类方法run()···')\n",
    "\n",
    "dog = Dog()\n",
    "cat = Cat()\n",
    "sheep = Sheep()\n",
    "\n",
    "\n",
    "dog.jiao()\n",
    "cat.jiao()\n",
    "\n",
    "cat.run()\n",
    "sheep.run()\n",
    "sheep.jiao() # 空\n"
   ]
  },
  {
   "attachments": {},
   "cell_type": "markdown",
   "metadata": {},
   "source": [
    "### 修改对象内部成员的值"
   ]
  },
  {
   "cell_type": "code",
   "execution_count": null,
   "metadata": {},
   "outputs": [],
   "source": [
    "\n",
    "class Ball(object):\n",
    "    def SetName(self, name):\n",
    "        self.name = name\n",
    "    \n",
    "    def kick(self):\n",
    "        print('我叫%s,该死的，谁踢我！' %self.name)\n",
    "\n",
    "a = Ball()\n",
    "a.SetName('球A')\n",
    "b = Ball()\n",
    "b.SetName('球B')\n",
    "\n",
    "a.kick()\n",
    "b.kick()"
   ]
  },
  {
   "attachments": {},
   "cell_type": "markdown",
   "metadata": {},
   "source": [
    "### 综合应用"
   ]
  },
  {
   "cell_type": "code",
   "execution_count": 4,
   "metadata": {},
   "outputs": [
    {
     "name": "stdout",
     "output_type": "stream",
     "text": [
      "我的位置是： 7 6\n"
     ]
    }
   ],
   "source": [
    "import random as r\n",
    "\n",
    "# 定义一个类 Fish\n",
    "class Fish(object):\n",
    "    def __init__(self):\n",
    "        self.x = r.randint(0, 10)\n",
    "        self.y = r.randint(0, 10)\n",
    "    \n",
    "    def move(self):\n",
    "        self.x -= 1\n",
    "        print('我的位置是：', self.x, self.y)\n",
    "    \n",
    "class GoldFish(Fish):\n",
    "    pass\n",
    "\n",
    "class salmon(Fish):\n",
    "    pass\n",
    "\n",
    "# 继承了父类 Fish\n",
    "class Shark(Fish):\n",
    "    def __init__(self):\n",
    "        self.hungry = True     # 继承父类时，重写init且继承父类init的两种方法\n",
    "        Fish.__init__(self)\n",
    "        super().__init__()\n",
    "\n",
    "    def eat(self):\n",
    "        if self.hungry:\n",
    "            print('吃货的梦想就是天天有吃的^_^')\n",
    "            self.hungry = False\n",
    "    \n",
    "shark = Shark()\n",
    "shark.move()\n"
   ]
  },
  {
   "attachments": {},
   "cell_type": "markdown",
   "metadata": {},
   "source": [
    "### 多重继承"
   ]
  },
  {
   "cell_type": "code",
   "execution_count": null,
   "metadata": {},
   "outputs": [],
   "source": [
    "\n",
    "class Base1(object):\n",
    "    def foo1(self):\n",
    "        print('正在调用Base1父类foo1方法')\n",
    "\n",
    "class Base2(object):\n",
    "    def foo2(self):\n",
    "        print('正在调用Base2父类foo2方法')\n",
    "\n",
    "class C(Base1, Base2):\n",
    "    pass\n",
    "\n",
    "c = C()\n",
    "c.foo1()\n",
    "c.foo2()"
   ]
  },
  {
   "attachments": {},
   "cell_type": "markdown",
   "metadata": {},
   "source": [
    "### 横向关系，组合\n",
    "所谓的组合，就是把类的实例化放到新类里面，那么它就把旧类给组合进去了，不用使用继承了，没有什么风险了。<br>组合一般来说就是把几个没有继承关系，没有直线关系的几个类放在一起，就是组合。要实现纵向关系之间的类，就使用继承。"
   ]
  },
  {
   "cell_type": "code",
   "execution_count": 5,
   "metadata": {},
   "outputs": [
    {
     "name": "stdout",
     "output_type": "stream",
     "text": [
      "水池里总共有乌龟1只，鱼20条\n"
     ]
    }
   ],
   "source": [
    "\n",
    "class Turtle(object):\n",
    "    def __init__(self, x):\n",
    "        self.num = x\n",
    "\n",
    "class Fish(object):\n",
    "    def __init__(self, x):\n",
    "        self.num = x\n",
    "\n",
    "class Pool(object):\n",
    "    def __init__(self, x, y):\n",
    "        self.turtle = Turtle(x)\n",
    "        self.fish = Fish(y)\n",
    "    \n",
    "    def print_num(self):\n",
    "        print('水池里总共有乌龟%d只，鱼%d条'  %(self.turtle.num, self.fish.num))\n",
    "\n",
    "pool = Pool(1, 20)\n",
    "pool.print_num()"
   ]
  },
  {
   "attachments": {},
   "cell_type": "markdown",
   "metadata": {},
   "source": [
    "### Mix-in编程机制"
   ]
  },
  {
   "cell_type": "code",
   "execution_count": 6,
   "metadata": {},
   "outputs": [
    {
     "name": "stdout",
     "output_type": "stream",
     "text": [
      "a.Num = 10\n",
      "b.Num = 10\n",
      "a.Num = 10\n",
      "b.Num = 11\n",
      "a.Num = 110\n",
      "b.Num = 11\n",
      "C.Num = 110\n"
     ]
    }
   ],
   "source": [
    "# 类、类对象和实例化对象\n",
    "class C(object):#类\n",
    "    Num = 10\n",
    "\n",
    "a = C()\n",
    "b = C()\n",
    "\n",
    "print('a.Num =', a.Num)    # 实例化类对象\n",
    "print('b.Num =', b.Num)    # 实例化类对象\n",
    "b.Num += 1\n",
    "print('a.Num =', a.Num)    # 实例化类对象\n",
    "print('b.Num =', b.Num)    # 实例化对象\n",
    "\n",
    "C.Num += 100\n",
    "print('a.Num =', a.Num)\n",
    "print('b.Num =', b.Num)\n",
    "print('C.Num =', C.Num)     # 类对象"
   ]
  },
  {
   "cell_type": "code",
   "execution_count": null,
   "metadata": {},
   "outputs": [],
   "source": [
    "# 一些要注意的习惯\n",
    "# 类的属性名用名词，类的方法名用动词\n",
    "\n",
    "class C(object):\n",
    "    def x(self):\n",
    "        print('I am Iron Man!')\n",
    "\n",
    "c = C()\n",
    "c.x()\n",
    "c.x = 1\n",
    "\n",
    "print(c.x)\n",
    "# c.x() #报错\n"
   ]
  },
  {
   "attachments": {},
   "cell_type": "markdown",
   "metadata": {},
   "source": [
    "### 绑定"
   ]
  },
  {
   "cell_type": "code",
   "execution_count": 14,
   "metadata": {},
   "outputs": [
    {
     "name": "stdout",
     "output_type": "stream",
     "text": [
      "AA\n",
      "no zuo no die\n"
     ]
    }
   ],
   "source": [
    "\n",
    "class AA:\n",
    "    def printAA(self):\n",
    "        print(\"AA\")\n",
    "        \n",
    "class BB(object):\n",
    "    def printBB():\n",
    "        print('no zuo no die')\n",
    "\n",
    "class CC(object):\n",
    "    def SetXY(self, x, y):\n",
    "        self.x = x\n",
    "        self.y = y\n",
    "    \n",
    "    def printXY(self):\n",
    "        print(self.x, self.y)\n",
    "\n",
    "aa = AA()\n",
    "aa.printAA()\n",
    "\n",
    "BB.printBB()\n",
    "bb = BB()\n",
    "# bb.printBB()  # 报错\n"
   ]
  },
  {
   "cell_type": "code",
   "execution_count": 8,
   "metadata": {},
   "outputs": [
    {
     "name": "stdout",
     "output_type": "stream",
     "text": [
      "no zuo no die\n"
     ]
    }
   ],
   "source": []
  },
  {
   "cell_type": "code",
   "execution_count": 9,
   "metadata": {},
   "outputs": [
    {
     "data": {
      "text/plain": [
       "{}"
      ]
     },
     "execution_count": 9,
     "metadata": {},
     "output_type": "execute_result"
    }
   ],
   "source": [
    "dd = CC()\n",
    "dd.__dict__ "
   ]
  },
  {
   "cell_type": "code",
   "execution_count": 10,
   "metadata": {},
   "outputs": [
    {
     "data": {
      "text/plain": [
       "mappingproxy({'__module__': '__main__',\n",
       "              'SetXY': <function __main__.CC.SetXY(self, x, y)>,\n",
       "              'printXY': <function __main__.CC.printXY(self)>,\n",
       "              '__dict__': <attribute '__dict__' of 'CC' objects>,\n",
       "              '__weakref__': <attribute '__weakref__' of 'CC' objects>,\n",
       "              '__doc__': None})"
      ]
     },
     "execution_count": 10,
     "metadata": {},
     "output_type": "execute_result"
    }
   ],
   "source": [
    "CC.__dict__"
   ]
  },
  {
   "cell_type": "code",
   "execution_count": null,
   "metadata": {},
   "outputs": [],
   "source": [
    "dd.SetXY(4, 5)\n",
    "dd.__dict__"
   ]
  },
  {
   "cell_type": "code",
   "execution_count": null,
   "metadata": {},
   "outputs": [],
   "source": [
    "CC.__dict__"
   ]
  },
  {
   "cell_type": "code",
   "execution_count": null,
   "metadata": {},
   "outputs": [],
   "source": [
    "del CC\n",
    "ee =CC()    #报错，类对象不存在"
   ]
  },
  {
   "cell_type": "code",
   "execution_count": null,
   "metadata": {},
   "outputs": [],
   "source": [
    "dd.__dict__ #实例化对像仍然存在"
   ]
  },
  {
   "attachments": {},
   "cell_type": "markdown",
   "metadata": {},
   "source": [
    "### 类和对象的一些BIF"
   ]
  },
  {
   "cell_type": "code",
   "execution_count": 11,
   "metadata": {},
   "outputs": [
    {
     "name": "stdout",
     "output_type": "stream",
     "text": [
      "True\n",
      "False\n",
      "True\n"
     ]
    }
   ],
   "source": [
    "# issubclass(class, classinfo)\n",
    "# 可以认为自身是子类\n",
    "# classinfo 可以是类的元组\n",
    "class A(object):\n",
    "    pass\n",
    "\n",
    "class B(A):\n",
    "    pass\n",
    "\n",
    "class C(object):\n",
    "    pass\n",
    "\n",
    "print(issubclass(B, A))\n",
    "print(issubclass(C, A))\n",
    "print(issubclass(C,(A, object)))\n"
   ]
  },
  {
   "cell_type": "code",
   "execution_count": null,
   "metadata": {},
   "outputs": [],
   "source": [
    "# isinstance(object, classinfo)\n",
    "# 第一个参数不是对象(不是class)，则永远返回False\n",
    "# 第二个参数不是类或者由类对象组成的元组，会抛出一个TypeError\n",
    "b1 = B()\n",
    "print(isinstance(b1, B))\n",
    "print(isinstance(b1,A)) #类B继承于类A\n",
    "print(isinstance(b1,C))\n"
   ]
  },
  {
   "cell_type": "code",
   "execution_count": 15,
   "metadata": {},
   "outputs": [],
   "source": [
    "# hasattr(object,name)\n",
    "# 属性名加双引号或单引号\n",
    "\n",
    "class C(object):\n",
    "    def __init__(self, x=0, y=1):\n",
    "        self.x = x\n",
    "        self.y = y\n",
    "\n",
    "c1 = C()\n",
    "print('c1 has attribute x:', hasattr(c1, 'x'))"
   ]
  },
  {
   "cell_type": "code",
   "execution_count": 17,
   "metadata": {},
   "outputs": [
    {
     "name": "stdout",
     "output_type": "stream",
     "text": [
      "c1.x = 0\n",
      "c1.v = 你所访问的属性不存在\n"
     ]
    }
   ],
   "source": [
    "# getattr(object, name[, default)\n",
    "print('c1.x =', getattr(c1, 'x'))\n",
    "print('c1.v =', getattr(c1, 'v', '你所访问的属性不存在'))"
   ]
  },
  {
   "cell_type": "code",
   "execution_count": null,
   "metadata": {},
   "outputs": [],
   "source": [
    "# setattr(object, name, value)\n",
    "# 设置属性的值，不存在则创建\n",
    "setattr(c1, 'v', 3)\n",
    "print('c1.v =', getattr(c1, 'v', '你所访问的属性不存在'))"
   ]
  },
  {
   "cell_type": "code",
   "execution_count": null,
   "metadata": {},
   "outputs": [],
   "source": [
    "# delattr(object, 'name')\n",
    "# 应当在删除前查看该属性是否存在\n",
    "print('c1.v =', getattr(c1, 'v', '你所访问的属性不存在'))\n",
    "delattr(c1, 'v')\n",
    "print('c1.v =', getattr(c1, 'v', '你所访问的属性不存在'))"
   ]
  },
  {
   "cell_type": "code",
   "execution_count": null,
   "metadata": {},
   "outputs": [],
   "source": [
    "# property(fget=None, fset=None, fdel=None, doc=None)\n",
    "# 属性设置属性\n",
    "\n",
    "class C(object):\n",
    "    def __init__(self, size=10):\n",
    "        self.size = size\n",
    "    \n",
    "    def getsize(self):\n",
    "        return self.size\n",
    "    \n",
    "    def setsize(self, value):\n",
    "        self.size = value\n",
    "    \n",
    "    def delsize(self):\n",
    "        del self.size\n",
    "\n",
    "    x = property(getsize, setsize, delsize)\n"
   ]
  },
  {
   "cell_type": "code",
   "execution_count": null,
   "metadata": {},
   "outputs": [],
   "source": [
    "c1 =C()\n",
    "\n",
    "print('c1.size =', c1.getsize())\n",
    "print('c1.x =', c1.x)\n",
    "c1.x = 18\n",
    "print('c1.size =', c1.size)\n",
    "print('c1.size =', c1.getsize())"
   ]
  },
  {
   "cell_type": "code",
   "execution_count": null,
   "metadata": {},
   "outputs": [],
   "source": []
  }
 ],
 "metadata": {
  "kernelspec": {
   "display_name": "yolov5",
   "language": "python",
   "name": "python3"
  },
  "language_info": {
   "codemirror_mode": {
    "name": "ipython",
    "version": 3
   },
   "file_extension": ".py",
   "mimetype": "text/x-python",
   "name": "python",
   "nbconvert_exporter": "python",
   "pygments_lexer": "ipython3",
   "version": "3.8.16"
  },
  "orig_nbformat": 2,
  "vscode": {
   "interpreter": {
    "hash": "8ab81d8c6c33f441aacc2ae501ce94c0323f337dc3eadc40dd17e3e003c4b6ec"
   }
  }
 },
 "nbformat": 4,
 "nbformat_minor": 2
}
