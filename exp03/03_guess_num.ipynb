{
 "cells": [
  {
   "cell_type": "code",
   "execution_count": null,
   "metadata": {},
   "outputs": [],
   "source": [
    "temp=input(\"guess the number:\")\n",
    "guess=int(temp)\n",
    "if guess==8:\n",
    "    print(\"Nice!\")\n",
    "    print(\"awards?\")\n",
    "else:\n",
    "    print(\"No,the number is 8!\\n\")\n",
    "print(\"Game Over!\")"
   ]
  },
  {
   "cell_type": "code",
   "execution_count": 1,
   "metadata": {},
   "outputs": [
    {
     "name": "stdout",
     "output_type": "stream",
     "text": [
      "13 is a prime number!\n"
     ]
    }
   ],
   "source": [
    "def showMaxFactor(num):\n",
    "    count = num // 2\n",
    "    while count > 1:\n",
    "        if num % count == 0:\n",
    "            print('The MaxFactor of %d is:  %d' %(num, count))\n",
    "            break\n",
    "        count-=1\n",
    "    else:\n",
    "        print('%d is a prime number!' % num)\n",
    "\n",
    "num = int(input('Please input a number: '))\n",
    "\n",
    "showMaxFactor(num)"
   ]
  }
 ],
 "metadata": {
  "kernelspec": {
   "display_name": "yolov5",
   "language": "python",
   "name": "python3"
  },
  "language_info": {
   "codemirror_mode": {
    "name": "ipython",
    "version": 3
   },
   "file_extension": ".py",
   "mimetype": "text/x-python",
   "name": "python",
   "nbconvert_exporter": "python",
   "pygments_lexer": "ipython3",
   "version": "3.8.16"
  },
  "orig_nbformat": 2,
  "vscode": {
   "interpreter": {
    "hash": "8ab81d8c6c33f441aacc2ae501ce94c0323f337dc3eadc40dd17e3e003c4b6ec"
   }
  }
 },
 "nbformat": 4,
 "nbformat_minor": 2
}
