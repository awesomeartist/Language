{
 "cells": [
  {
   "cell_type": "markdown",
   "metadata": {},
   "source": [
    "### len( ) 方法"
   ]
  },
  {
   "cell_type": "code",
   "execution_count": null,
   "metadata": {},
   "outputs": [],
   "source": [
    "a = [1]\n",
    "if  len(a):\n",
    "    print(a)"
   ]
  },
  {
   "attachments": {},
   "cell_type": "markdown",
   "metadata": {},
   "source": [
    "### in 列表内元素查找比对"
   ]
  },
  {
   "cell_type": "code",
   "execution_count": null,
   "metadata": {},
   "outputs": [],
   "source": [
    "str = ['a','b']\n",
    "print('c' in str)"
   ]
  },
  {
   "cell_type": "code",
   "execution_count": null,
   "metadata": {},
   "outputs": [],
   "source": [
    "str = ['a', 'b']\n",
    "print(['c', 'd','a'] not in str)"
   ]
  },
  {
   "attachments": {},
   "cell_type": "markdown",
   "metadata": {},
   "source": [
    "## Python 复制方法\n",
    "### 直接赋值\n",
    ">如果用 `=` 直接赋值，是非拷贝方法\n",
    " \n",
    ">这两个列表是等价的，修改其中任何一个列表都会影响到另一个列表"
   ]
  },
  {
   "cell_type": "code",
   "execution_count": null,
   "metadata": {},
   "outputs": [],
   "source": [
    "old = [1,[1,2,3],3]\n",
    "new = []\n",
    "for i in range(len(old)):\n",
    "    new.append(old[i])\n",
    "\n",
    "    \n",
    "print('Before:')\n",
    "print(f'old = {old} \\nnew = {new}')\n",
    " \n",
    "new[0] = 3\n",
    "new[1][0] = 3\n",
    "\n",
    "print('After:')\n",
    "print(f'old = {old} \\nnew = {new}')"
   ]
  },
  {
   "attachments": {},
   "cell_type": "markdown",
   "metadata": {},
   "source": [
    "### `copy()`方法(浅拷贝)\n",
    ">对于List来说，其第一层，是实现了深拷贝，但对于其内嵌套的List，仍然是浅拷贝\n",
    " \n",
    ">因为嵌套的List保存的是地址，复制过去的时候是把地址复制过去了，嵌套的List在内存中指向的还是同一个。"
   ]
  },
  {
   "cell_type": "code",
   "execution_count": null,
   "metadata": {},
   "outputs": [],
   "source": [
    "old = [1,[1,2,3],3]\n",
    "new = old.copy()\n",
    "\n",
    "\n",
    "print('Before:') \n",
    "print(f'old = {old} \\nnew = {new}')\n",
    "\n",
    "new[0] = 3\n",
    "new[1][0] =3\n",
    " \n",
    "print('After:')\n",
    "print(f'old = {old} \\nnew = {new}')"
   ]
  },
  {
   "cell_type": "markdown",
   "metadata": {},
   "source": [
    "### 使用列表生成式(浅拷贝)\n",
    ">使用列表生成式产生新列表也是一个浅拷贝方法，只对第一层实现深拷贝"
   ]
  },
  {
   "cell_type": "code",
   "execution_count": null,
   "metadata": {},
   "outputs": [],
   "source": [
    "old = [1,[1,2,3],3]\n",
    "new = [i for i in old]\n",
    "\n",
    "\n",
    "print('Before:') \n",
    "print(f'old = {old} \\nnew = {new}')\n",
    "\n",
    "new[0] = 3\n",
    "new[1][0] =3\n",
    " \n",
    "print('After:')\n",
    "print(f'old = {old} \\nnew = {new}')"
   ]
  },
  {
   "attachments": {},
   "cell_type": "markdown",
   "metadata": {},
   "source": [
    "### `for`循环遍历(浅拷贝)\n",
    ">通过`for`循环遍历，将元素一个个添加到新列表中。这也是一个浅拷贝方法，只对第一层实现深拷贝"
   ]
  },
  {
   "cell_type": "code",
   "execution_count": null,
   "metadata": {},
   "outputs": [],
   "source": [
    "old = [1,[1,2,3],3]\n",
    "new = []\n",
    "for i in range(len(old)):\n",
    "    new.append(old[i])\n",
    "\n",
    "\n",
    "print('Before:') \n",
    "print(f'old = {old} \\nnew = {new}')\n",
    "\n",
    "new[0] = 3\n",
    "new[1][0] =3\n",
    " \n",
    "print('After:')\n",
    "print(f'old = {old} \\nnew = {new}')"
   ]
  },
  {
   "attachments": {},
   "cell_type": "markdown",
   "metadata": {},
   "source": [
    "### 使用切片(浅拷贝)\n",
    ">通过使用`[ : ]`切片，可以浅拷贝整个列表，同样的，只对第一层实现深拷贝。"
   ]
  },
  {
   "cell_type": "code",
   "execution_count": null,
   "metadata": {},
   "outputs": [],
   "source": [
    "old = [1,[1,2,3],3]\n",
    "new = old[:]\n",
    "\n",
    "print('Before:') \n",
    "print(f'old = {old} \\nnew = {new}')\n",
    "\n",
    "new[0] = 3\n",
    "new[1][0] =3\n",
    " \n",
    "print('After:')\n",
    "print(f'old = {old} \\nnew = {new}')"
   ]
  },
  {
   "attachments": {},
   "cell_type": "markdown",
   "metadata": {},
   "source": [
    "### 深拷贝\n",
    ">如果用`deepcopy()`方法，则无论多少层，无论怎样的形式，得到的新列表都是和原来无关的，这是最安全最清爽最有效的方法。\n",
    "\n",
    ">需要   `import copy`"
   ]
  },
  {
   "cell_type": "code",
   "execution_count": null,
   "metadata": {},
   "outputs": [],
   "source": [
    "import copy\n",
    "old = [1,[1,2,3],3]\n",
    "new = copy.deepcopy(old)\n",
    "\n",
    "\n",
    "\n",
    "print('Before:') \n",
    "print(f'old = {old} \\nnew = {new}')\n",
    "\n",
    "new[0] = 3\n",
    "new[1][0] =3\n",
    " \n",
    "print('After:')\n",
    "print(f'old = {old} \\nnew = {new}')"
   ]
  }
 ],
 "metadata": {
  "kernelspec": {
   "display_name": "yolov5",
   "language": "python",
   "name": "python3"
  },
  "language_info": {
   "codemirror_mode": {
    "name": "ipython",
    "version": 3
   },
   "file_extension": ".py",
   "mimetype": "text/x-python",
   "name": "python",
   "nbconvert_exporter": "python",
   "pygments_lexer": "ipython3",
   "version": "3.8.16"
  },
  "orig_nbformat": 4,
  "vscode": {
   "interpreter": {
    "hash": "8ab81d8c6c33f441aacc2ae501ce94c0323f337dc3eadc40dd17e3e003c4b6ec"
   }
  }
 },
 "nbformat": 4,
 "nbformat_minor": 2
}
