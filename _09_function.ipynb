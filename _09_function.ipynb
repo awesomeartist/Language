{
 "metadata": {
  "language_info": {
   "codemirror_mode": {
    "name": "ipython",
    "version": 3
   },
   "file_extension": ".py",
   "mimetype": "text/x-python",
   "name": "python",
   "nbconvert_exporter": "python",
   "pygments_lexer": "ipython3",
   "version": "3.7.0"
  },
  "orig_nbformat": 2,
  "kernelspec": {
   "name": "python370jvsc74a57bd0429c9996d59adc7f4cefc806ef40bdc5f24259d7042b8b8803fdb2f234fb1764",
   "display_name": "Python 3.7.0 64-bit ('base': conda)"
  }
 },
 "nbformat": 4,
 "nbformat_minor": 2,
 "cells": [
  {
   "cell_type": "code",
   "execution_count": 1,
   "metadata": {},
   "outputs": [
    {
     "output_type": "stream",
     "name": "stdout",
     "text": [
      "This is my first function!\nliang I LOVE YOU.\n"
     ]
    }
   ],
   "source": [
    "def MyFirstFunction():\n",
    "    print('This is my first function!')\n",
    "\n",
    "def MySecondFunction(name):\n",
    "    print(name + ' I LOVE YOU.')\n",
    "\n",
    "MyFirstFunction()\n",
    "MySecondFunction('liang')\n"
   ]
  },
  {
   "cell_type": "code",
   "execution_count": 2,
   "metadata": {},
   "outputs": [
    {
     "output_type": "stream",
     "name": "stdout",
     "text": [
      "1 + 7 = 8\n"
     ]
    }
   ],
   "source": [
    "def Sum(num1,num2):\n",
    "    return num1+num2\n",
    "\n",
    "print('1 + 7 =', Sum(1,7))"
   ]
  },
  {
   "cell_type": "code",
   "execution_count": 7,
   "metadata": {},
   "outputs": [
    {
     "output_type": "stream",
     "name": "stdout",
     "text": [
      "xiang -> hello world!\nhuang -> hello world!\nzhang -> happy new year!\nliang -> make the world better!\nmake the world better! -> liang\nliang -> make the world better!\n"
     ]
    }
   ],
   "source": [
    "def SaySome(name = 'xiang',words = 'hello world!'):\n",
    "    print(name + ' -> ' + words)\n",
    "\n",
    "SaySome()\n",
    "SaySome('huang')\n",
    "SaySome('zhang', 'happy new year!')\n",
    "SaySome('liang','make the world better!')\n",
    "SaySome('make the world better!','liang')\n",
    "SaySome(words = 'make the world better!',name = 'liang')  #key words parameter"
   ]
  },
  {
   "cell_type": "code",
   "execution_count": 9,
   "metadata": {},
   "outputs": [
    {
     "output_type": "stream",
     "name": "stdout",
     "text": [
      "\nThe length of this parameter is: 2 \nexp =  8\nThe second parameter is: abc\n\nThe length of this parameter is: 5 \nexp =  9\nThe second parameter is: liang \n"
     ]
    }
   ],
   "source": [
    "def test(*params,exp=8):\n",
    "    print('\\nThe length of this parameter is:', len(params),'\\nexp = ',exp)\n",
    "    print('The second parameter is:',params[1])\n",
    "\n",
    "test(1,'abc')\n",
    "test(1,'liang ',3,3,5,exp = 9)"
   ]
  },
  {
   "cell_type": "code",
   "execution_count": null,
   "metadata": {},
   "outputs": [],
   "source": []
  }
 ]
}