{
 "cells": [
  {
   "attachments": {},
   "cell_type": "markdown",
   "metadata": {},
   "source": [
    "## 元组数据类型\n",
    "### 元组的创建方法\n",
    "### 元组中元素的修改方法"
   ]
  },
  {
   "cell_type": "code",
   "execution_count": 1,
   "metadata": {},
   "outputs": [
    {
     "name": "stdout",
     "output_type": "stream",
     "text": [
      "tuple1[2:7] = (3, 4, 5, 6, 7)\n",
      "Datatype of tuple1 is: <class 'tuple'>\n",
      "Datatype of tuple2 is: <class 'int'>\n",
      "Datatype of tuple3 is: <class 'tuple'>\n",
      "Datatype of tuple4 is: <class 'tuple'>\n",
      "\n",
      "Tuple Methods\n",
      "tuple4 = ('a', 'b', 'c', 'd')\n",
      "tuple4 = ('a', 'b', 'c', 'e', 'd')\n"
     ]
    }
   ],
   "source": [
    "tuple1 = (1, 2, 3, 4, 5, 6, 7, 8, 9, 0,)\n",
    "tuple2 = (1)\n",
    "tuple3 = (1,)\n",
    "tuple4 = 'a','b','c','d'\n",
    "print('tuple1[2:7] =', tuple1[2:7])\n",
    "print('Datatype of tuple1 is:', type(tuple1))\n",
    "print('Datatype of tuple2 is:', type(tuple2))\n",
    "print('Datatype of tuple3 is:', type(tuple3))\n",
    "print('Datatype of tuple4 is:', type(tuple4))\n",
    "\n",
    "print(\"\\nTuple Methods\")\n",
    "print('tuple4 =', tuple4)\n",
    "tuple4 = tuple4[:3] + ('e',) + tuple4[3:]\n",
    "print('tuple4 =', tuple4)"
   ]
  }
 ],
 "metadata": {
  "kernelspec": {
   "display_name": "yolov5",
   "language": "python",
   "name": "python3"
  },
  "language_info": {
   "name": "python",
   "version": "3.8.16"
  },
  "orig_nbformat": 4,
  "vscode": {
   "interpreter": {
    "hash": "8ab81d8c6c33f441aacc2ae501ce94c0323f337dc3eadc40dd17e3e003c4b6ec"
   }
  }
 },
 "nbformat": 4,
 "nbformat_minor": 2
}
