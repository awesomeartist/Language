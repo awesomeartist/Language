{
 "cells": [
  {
   "cell_type": "markdown",
   "metadata": {},
   "source": [
    "### 集合创建"
   ]
  },
  {
   "cell_type": "code",
   "execution_count": 1,
   "metadata": {},
   "outputs": [
    {
     "name": "stdout",
     "output_type": "stream",
     "text": [
      "type(num1) =  <class 'set'> \n",
      "num = : {0, 1, 2, 3, 4, 5}\n",
      "num2 = [2, 3, 3, 3, 4, 5, 6, 6, 7, 0]\n",
      "type(temp) =  <class 'set'> \n",
      "temp =  {0, 2, 3, 4, 5, 6, 7}\n",
      "num1 =  {0, 1, 2, 3, 4, 5, 9}\n",
      "num1 =  {0, 1, 2, 3, 4, 9}\n"
     ]
    }
   ],
   "source": [
    "num1 = {1,2,4,4,3,5,0}\n",
    "num2 = [2,3,3,3,4,5,6,6,7,0]\n",
    "\n",
    "print('type(num1) = ', type(num1),'\\nnum = :',num1)\n",
    "print('num2 =',num2)\n",
    "\n",
    "temp = set(num2)    #会将原列表中的元素进行排序再返回\n",
    "print('type(temp) = ',type(temp),'\\ntemp = ',temp)\n",
    "\n",
    "num1.add(9)\n",
    "print('num1 = ',num1)\n",
    "\n",
    "num1.remove(5)\n",
    "print('num1 = ',num1)\n",
    "\n"
   ]
  },
  {
   "cell_type": "markdown",
   "metadata": {},
   "source": [
    "### 不可变集合(方法)frozenset"
   ]
  },
  {
   "cell_type": "code",
   "execution_count": null,
   "metadata": {},
   "outputs": [],
   "source": [
    "num3 = frozenset([1,2,3,4,5])\n",
    "print('num3 = ',num3)\n",
    "# num3.add(5)   #报错"
   ]
  },
  {
   "cell_type": "code",
   "execution_count": null,
   "metadata": {},
   "outputs": [],
   "source": []
  }
 ],
 "metadata": {
  "kernelspec": {
   "display_name": "yolov5",
   "language": "python",
   "name": "python3"
  },
  "language_info": {
   "codemirror_mode": {
    "name": "ipython",
    "version": 3
   },
   "file_extension": ".py",
   "mimetype": "text/x-python",
   "name": "python",
   "nbconvert_exporter": "python",
   "pygments_lexer": "ipython3",
   "version": "3.8.16"
  },
  "orig_nbformat": 2,
  "vscode": {
   "interpreter": {
    "hash": "8ab81d8c6c33f441aacc2ae501ce94c0323f337dc3eadc40dd17e3e003c4b6ec"
   }
  }
 },
 "nbformat": 4,
 "nbformat_minor": 2
}
