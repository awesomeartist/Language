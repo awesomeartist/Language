{
 "metadata": {
  "language_info": {
   "codemirror_mode": {
    "name": "ipython",
    "version": 3
   },
   "file_extension": ".py",
   "mimetype": "text/x-python",
   "name": "python",
   "nbconvert_exporter": "python",
   "pygments_lexer": "ipython3",
   "version": "3.7.0"
  },
  "orig_nbformat": 2,
  "kernelspec": {
   "name": "python370jvsc74a57bd0429c9996d59adc7f4cefc806ef40bdc5f24259d7042b8b8803fdb2f234fb1764",
   "display_name": "Python 3.7.0 64-bit ('base': conda)"
  }
 },
 "nbformat": 4,
 "nbformat_minor": 2,
 "cells": [
  {
   "source": [
    "## 格式化输出"
   ],
   "cell_type": "markdown",
   "metadata": {}
  },
  {
   "cell_type": "code",
   "execution_count": 1,
   "metadata": {},
   "outputs": [
    {
     "output_type": "stream",
     "name": "stdout",
     "text": [
      "I love bilibli.com\nI love bilibli.com\n"
     ]
    }
   ],
   "source": [
    "str1 = \"{a} love {b}.{c}\".format(a='I', b='bilibli',c='com')\n",
    "print(str1)\n",
    "str1 = \"{0} love {b}.{c}\".format('I', b='bilibli',c='com')\n",
    "print(str1)\n"
   ]
  },
  {
   "cell_type": "code",
   "execution_count": 2,
   "metadata": {},
   "outputs": [
    {
     "output_type": "stream",
     "name": "stdout",
     "text": [
      "33.6GB\n"
     ]
    }
   ],
   "source": [
    "\n",
    "str2 = '{0:.1f}{1}'.format(33.567,'GB')\n",
    "print(str2)\n"
   ]
  },
  {
   "cell_type": "code",
   "execution_count": 3,
   "metadata": {},
   "outputs": [
    {
     "output_type": "stream",
     "name": "stdout",
     "text": [
      "a\n4 + 5 = 9\n0xa\n+2.356e+01\n"
     ]
    }
   ],
   "source": [
    "\n",
    "print('%c' % 97)\n",
    "print('%d + %d = %d' %(4, 5, 4+5))\n",
    "print('%#x' % 10)\n",
    "print('%+.3e' %23.563)\n"
   ]
  },
  {
   "cell_type": "code",
   "execution_count": null,
   "metadata": {},
   "outputs": [],
   "source": []
  }
 ]
}