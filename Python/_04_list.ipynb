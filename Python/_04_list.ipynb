{
 "metadata": {
  "language_info": {
   "codemirror_mode": {
    "name": "ipython",
    "version": 3
   },
   "file_extension": ".py",
   "mimetype": "text/x-python",
   "name": "python",
   "nbconvert_exporter": "python",
   "pygments_lexer": "ipython3",
   "version": "3.7.0"
  },
  "orig_nbformat": 2,
  "kernelspec": {
   "name": "python370jvsc74a57bd0429c9996d59adc7f4cefc806ef40bdc5f24259d7042b8b8803fdb2f234fb1764",
   "display_name": "Python 3.7.0 64-bit ('base': conda)"
  }
 },
 "nbformat": 4,
 "nbformat_minor": 2,
 "cells": [
  {
   "source": [
    "### 列表操作方法`append()`和`extend()`"
   ],
   "cell_type": "markdown",
   "metadata": {}
  },
  {
   "cell_type": "code",
   "execution_count": 22,
   "metadata": {},
   "outputs": [
    {
     "output_type": "stream",
     "name": "stdout",
     "text": [
      "mix = [1, 'apple', 3.14, [1, 2, 3]]\n\n After append string 'car' the list mix = [1, 'apple', 3.14, [1, 2, 3], 'car']\n\n After extned list '['bus',4]' the list mix = [1, 'apple', 3.14, [1, 2, 3], 'car', 'bus', 4]\n"
     ]
    }
   ],
   "source": [
    "mix=[1,'apple',3.14,[1,2,3]]\n",
    "print('mix =', mix)\n",
    "\n",
    "mix.append('car')\n",
    "print('\\n After append string \\'car\\' the list mix =', mix)\n",
    "\n",
    "mix.extend(['bus',4])   #注意结果是迭代插入列表中的元素，而不是将列表当作元素插入列表\n",
    "print('\\n After extned list \\'[\\'bus\\',4]\\' the list mix =', mix)  "
   ]
  },
  {
   "source": [
    "### 列表操作方法`insert()`和`index()`"
   ],
   "cell_type": "markdown",
   "metadata": {}
  },
  {
   "cell_type": "code",
   "execution_count": 36,
   "metadata": {},
   "outputs": [
    {
     "output_type": "stream",
     "name": "stdout",
     "text": [
      "mix =  [1, 'dog', 'dog', 'apple', 3.14]\nmix[1] = dog\nmix.index('dog') = 1\n"
     ]
    }
   ],
   "source": [
    "\n",
    "mix.insert(1,'dog')\n",
    "print('mix = ', mix)\n",
    "print(f'mix[1] = {mix[1]}')\n",
    "\n",
    "temp=mix.index('dog')\n",
    "print('mix.index(\\'dog\\') =',temp)\n"
   ]
  },
  {
   "source": [
    "### 列表操作方法`remove()`"
   ],
   "cell_type": "markdown",
   "metadata": {}
  },
  {
   "cell_type": "code",
   "execution_count": 32,
   "metadata": {},
   "outputs": [
    {
     "output_type": "stream",
     "name": "stdout",
     "text": [
      "\n mix = [1, 'dog', 'apple', 3.14, [1, 2, 3], 'car']\n\n mix = [1, 'apple', 3.14, [1, 2, 3], 'car']\n"
     ]
    }
   ],
   "source": [
    "print('\\n mix =', mix)\n",
    "mix.remove('dog')\n",
    "print('\\n mix =', mix)"
   ]
  },
  {
   "source": [
    "### 列表操作方法`del()`和`pop()`,以及列表分片"
   ],
   "cell_type": "markdown",
   "metadata": {}
  },
  {
   "cell_type": "code",
   "execution_count": 34,
   "metadata": {},
   "outputs": [
    {
     "output_type": "stream",
     "name": "stdout",
     "text": [
      "mix = [1, 'apple', 3.14, [1, 2, 3], 'car']\nmix = [1, 'apple', 3.14, [1, 2, 3]]\n[1, 2, 3]\n[1, 'apple', 3.14]\n['apple', 3.14]\n[1, 'apple', 3.14]\n"
     ]
    }
   ],
   "source": [
    "print('mix =', mix)\n",
    "del mix[4]\n",
    "print('mix =', mix)\n",
    "\n",
    "temp=mix.pop()\n",
    "print(temp)\n",
    "print(mix)\n",
    "\n",
    "print(mix[1:4])\n",
    "print(mix[:])"
   ]
  },
  {
   "source": [
    "### 列表比较"
   ],
   "cell_type": "markdown",
   "metadata": {}
  },
  {
   "cell_type": "code",
   "execution_count": 9,
   "metadata": {},
   "outputs": [
    {
     "output_type": "stream",
     "name": "stdout",
     "text": [
      "True\n"
     ]
    }
   ],
   "source": [
    "list1 = [1,22,3,4]\n",
    "list2 = [2,2,3]\n",
    "print(list1 < list2)    #从第一个元素开始比较，直到判断为True,否则为False"
   ]
  },
  {
   "cell_type": "code",
   "execution_count": 17,
   "metadata": {},
   "outputs": [
    {
     "output_type": "stream",
     "name": "stdout",
     "text": [
      "True\nTrue\nlist2 + list3 = [234, 345, 234, 345]\n"
     ]
    }
   ],
   "source": [
    "list1 = [123,234]\n",
    "list2 = [234,345]\n",
    "list3 = [234,345]\n",
    "print(list2 == list3)   #比较所有对应元素相同为True,否则为False\n",
    "print((list1 < list2) and (list2 == list3))\n",
    "list4 = list2 + list3\n",
    "print('list2 + list3 =', list4)"
   ]
  },
  {
   "cell_type": "code",
   "execution_count": 18,
   "metadata": {},
   "outputs": [
    {
     "output_type": "stream",
     "name": "stdout",
     "text": [
      "list4 = [234, 345, 234, 345, ['apple', 'bus']]\nTrue\nFalse\nTrue\nbus\n"
     ]
    }
   ],
   "source": [
    "list4 .append(['apple','bus'])\n",
    "print('list4 =', list4)\n",
    "print(33 not in list4)\n",
    "print(234 not in list4)\n",
    "print('bus'not in list4)    #只与列表中元素比较，不进一步比较元素内的子元素\n",
    "print(list4[4][1])"
   ]
  },
  {
   "source": [
    "### 列表操作方法`reverse()`"
   ],
   "cell_type": "markdown",
   "metadata": {}
  },
  {
   "cell_type": "code",
   "execution_count": 24,
   "metadata": {},
   "outputs": [
    {
     "output_type": "stream",
     "name": "stdout",
     "text": [
      "The number of 234 in list4 = 2\nlist4.index(345, 2, 4) = 3\n\nlist4 = [['apple', 'bus'], 345, 234, 345, 234]\nAfter reverse:\nlist4 = [234, 345, 234, 345, ['apple', 'bus']]\n"
     ]
    }
   ],
   "source": [
    "\n",
    "print('The number of 234 in list4 =', list4.count(234))\n",
    "print('list4.index(345, 2, 4) =', list4.index(345, 2, 4))\n",
    "print('\\nlist4 =', list4)\n",
    "list4.reverse()\n",
    "print('After reverse:')\n",
    "print('list4 =',list4)"
   ]
  },
  {
   "source": [
    "### 列表操作方法`sort()`"
   ],
   "cell_type": "markdown",
   "metadata": {}
  },
  {
   "cell_type": "code",
   "execution_count": 26,
   "metadata": {},
   "outputs": [
    {
     "output_type": "stream",
     "name": "stdout",
     "text": [
      "list5 = [3, 55, 9, 45, 22, 90]\n\nAfter sort:\nlist5 = [3, 9, 22, 45, 55, 90]\n\nAfter sort with reverse:\nlist5 = [90, 55, 45, 22, 9, 3]\n"
     ]
    }
   ],
   "source": [
    "list5 = [3 ,55 ,9 ,45 ,22 ,90]\n",
    "print('list5 =', list5)\n",
    "list5.sort()\n",
    "print('\\nAfter sort:')\n",
    "print('list5 =', list5)\n",
    "list5.sort(reverse = True)\n",
    "print('\\nAfter sort with reverse:')\n",
    "print('list5 =', list5)"
   ]
  },
  {
   "source": [
    "### 列表操作方法`copy()`"
   ],
   "cell_type": "markdown",
   "metadata": {}
  },
  {
   "cell_type": "code",
   "execution_count": 33,
   "metadata": {},
   "outputs": [
    {
     "output_type": "stream",
     "name": "stdout",
     "text": [
      "Origin of list5:\nlist5 = [3, 9, 22, 45, 55, 90]\nAfter process:\nlist5 = [90, 55, 45, 22, 9, 3]\nlist6 = [90, 55, 45, 22, 9, 3]\nlist7 = [3, 9, 22, 45, 55, 90]\n"
     ]
    }
   ],
   "source": [
    "print('Origin of list5:')\n",
    "print('list5 =', list5)\n",
    "list6 = list5\n",
    "list7 = list5.copy()\n",
    "list5.reverse()\n",
    "print('After process:')\n",
    "print('list5 =', list5)\n",
    "print('list6 =', list6)\n",
    "print('list7 =', list7)"
   ]
  },
  {
   "source": [
    "## Python复制方法\n",
    "### 直接赋值\n",
    ">如果用 `=` 直接赋值，是非拷贝方法\n",
    " \n",
    ">这两个列表是等价的，修改其中任何一个列表都会影响到另一个列表"
   ],
   "cell_type": "markdown",
   "metadata": {}
  },
  {
   "cell_type": "code",
   "execution_count": 39,
   "metadata": {},
   "outputs": [
    {
     "output_type": "stream",
     "name": "stdout",
     "text": [
      "Befor:\nold = [1, [1, 2, 3], 3] \nnew = [1, [1, 2, 3], 3]\nAfter:\nold = [1, [3, 2, 3], 3] \nnew = [3, [3, 2, 3], 3]\n"
     ]
    }
   ],
   "source": [
    "old = [1,[1,2,3],3]\n",
    "new = []\n",
    "for i in range(len(old)):\n",
    "    new.append(old[i])\n",
    "\n",
    "    \n",
    "print('Befor:')\n",
    "print(f'old = {old} \\nnew = {new}')\n",
    " \n",
    "new[0] = 3\n",
    "new[1][0] = 3\n",
    "\n",
    "print('After:')\n",
    "print(f'old = {old} \\nnew = {new}')"
   ]
  },
  {
   "source": [
    "### `copy()`方法(浅拷贝)\n",
    ">对于List来说，其第一层，是实现了深拷贝，但对于其内嵌套的List，仍然是浅拷贝\n",
    " \n",
    ">因为嵌套的List保存的是地址，复制过去的时候是把地址复制过去了，嵌套的List在内存中指向的还是同一个。"
   ],
   "cell_type": "markdown",
   "metadata": {}
  },
  {
   "cell_type": "code",
   "execution_count": 40,
   "metadata": {},
   "outputs": [
    {
     "output_type": "stream",
     "name": "stdout",
     "text": [
      "Befor:\nold = [1, [1, 2, 3], 3] \nnew = [1, [1, 2, 3], 3]\nAfter:\nold = [1, [3, 2, 3], 3] \nnew = [3, [3, 2, 3], 3]\n"
     ]
    }
   ],
   "source": [
    "\n",
    "old = [1,[1,2,3],3]\n",
    "new = old.copy()\n",
    "\n",
    "\n",
    "print('Befor:') \n",
    "print(f'old = {old} \\nnew = {new}')\n",
    "\n",
    "new[0] = 3\n",
    "new[1][0] =3\n",
    " \n",
    "print('After:')\n",
    "print(f'old = {old} \\nnew = {new}')"
   ]
  },
  {
   "source": [
    "### 使用列表生成式(浅拷贝)\n",
    ">使用列表生成式产生新列表也是一个浅拷贝方法，只对第一层实现深拷贝\n",
    " "
   ],
   "cell_type": "markdown",
   "metadata": {}
  },
  {
   "cell_type": "code",
   "execution_count": 41,
   "metadata": {},
   "outputs": [
    {
     "output_type": "stream",
     "name": "stdout",
     "text": [
      "Befor:\nold = [1, [1, 2, 3], 3] \nnew = [1, [1, 2, 3], 3]\nAfter:\nold = [1, [3, 2, 3], 3] \nnew = [3, [3, 2, 3], 3]\n"
     ]
    }
   ],
   "source": [
    "old = [1,[1,2,3],3]\n",
    "new = [i for i in old]\n",
    "\n",
    "\n",
    "print('Befor:') \n",
    "print(f'old = {old} \\nnew = {new}')\n",
    "\n",
    "new[0] = 3\n",
    "new[1][0] =3\n",
    " \n",
    "print('After:')\n",
    "print(f'old = {old} \\nnew = {new}')"
   ]
  },
  {
   "source": [
    "### `for`循环遍历(浅拷贝)\n",
    ">通过`for`循环遍历，将元素一个个添加到新列表中。这也是一个浅拷贝方法，只对第一层实现深拷贝"
   ],
   "cell_type": "markdown",
   "metadata": {}
  },
  {
   "cell_type": "code",
   "execution_count": 44,
   "metadata": {},
   "outputs": [
    {
     "output_type": "stream",
     "name": "stdout",
     "text": [
      "Befor:\nold = [1, [1, 2, 3], 3] \nnew = [1, [1, 2, 3], 3]\nAfter:\nold = [1, [3, 2, 3], 3] \nnew = [3, [3, 2, 3], 3]\n"
     ]
    }
   ],
   "source": [
    "\n",
    "old = [1,[1,2,3],3]\n",
    "new = []\n",
    "for i in range(len(old)):\n",
    "    new.append(old[i])\n",
    "\n",
    "\n",
    "print('Befor:') \n",
    "print(f'old = {old} \\nnew = {new}')\n",
    "\n",
    "new[0] = 3\n",
    "new[1][0] =3\n",
    " \n",
    "print('After:')\n",
    "print(f'old = {old} \\nnew = {new}')"
   ]
  },
  {
   "source": [
    "### 使用切片(浅拷贝)\n",
    ">通过使用`[ : ]`切片，可以浅拷贝整个列表，同样的，只对第一层实现深拷贝。"
   ],
   "cell_type": "markdown",
   "metadata": {}
  },
  {
   "cell_type": "code",
   "execution_count": 43,
   "metadata": {},
   "outputs": [
    {
     "output_type": "stream",
     "name": "stdout",
     "text": [
      "Befor:\nold = [1, [1, 2, 3], 3] \nnew = [1, [1, 2, 3], 3]\nAfter:\nold = [1, [3, 2, 3], 3] \nnew = [3, [3, 2, 3], 3]\n"
     ]
    }
   ],
   "source": [
    "\n",
    "old = [1,[1,2,3],3]\n",
    "new = old[:]\n",
    "\n",
    "\n",
    "\n",
    "print('Befor:') \n",
    "print(f'old = {old} \\nnew = {new}')\n",
    "\n",
    "new[0] = 3\n",
    "new[1][0] =3\n",
    " \n",
    "print('After:')\n",
    "print(f'old = {old} \\nnew = {new}')"
   ]
  },
  {
   "source": [
    "### 深拷贝\n",
    ">如果用`deepcopy()`方法，则无论多少层，无论怎样的形式，得到的新列表都是和原来无关的，这是最安全最清爽最有效的方法。\n",
    "\n",
    ">需要   `import copy`"
   ],
   "cell_type": "markdown",
   "metadata": {}
  },
  {
   "cell_type": "code",
   "execution_count": 42,
   "metadata": {},
   "outputs": [
    {
     "output_type": "stream",
     "name": "stdout",
     "text": [
      "Befor:\nold = [1, [1, 2, 3], 3] \nnew = [1, [1, 2, 3], 3]\nAfter:\nold = [1, [1, 2, 3], 3] \nnew = [3, [3, 2, 3], 3]\n"
     ]
    }
   ],
   "source": [
    "import copy\n",
    "old = [1,[1,2,3],3]\n",
    "new = copy.deepcopy(old)\n",
    "\n",
    "\n",
    "\n",
    "print('Befor:') \n",
    "print(f'old = {old} \\nnew = {new}')\n",
    "\n",
    "new[0] = 3\n",
    "new[1][0] =3\n",
    " \n",
    "print('After:')\n",
    "print(f'old = {old} \\nnew = {new}')"
   ]
  },
  {
   "cell_type": "code",
   "execution_count": null,
   "metadata": {},
   "outputs": [],
   "source": []
  }
 ]
}