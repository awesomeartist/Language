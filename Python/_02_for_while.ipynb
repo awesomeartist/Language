{
 "metadata": {
  "language_info": {
   "codemirror_mode": {
    "name": "ipython",
    "version": 3
   },
   "file_extension": ".py",
   "mimetype": "text/x-python",
   "name": "python",
   "nbconvert_exporter": "python",
   "pygments_lexer": "ipython3",
   "version": "3.7.0"
  },
  "orig_nbformat": 2,
  "kernelspec": {
   "name": "python370jvsc74a57bd0429c9996d59adc7f4cefc806ef40bdc5f24259d7042b8b8803fdb2f234fb1764",
   "display_name": "Python 3.7.0 64-bit ('base': conda)"
  }
 },
 "nbformat": 4,
 "nbformat_minor": 2,
 "cells": [
  {
   "source": [
    "### `for`循环"
   ],
   "cell_type": "markdown",
   "metadata": {}
  },
  {
   "cell_type": "code",
   "execution_count": null,
   "metadata": {},
   "outputs": [],
   "source": [
    "favourite = 'fishC'\n",
    "for i in favourite:\n",
    "   print(i,end=' ')"
   ]
  },
  {
   "cell_type": "code",
   "execution_count": null,
   "metadata": {},
   "outputs": [],
   "source": [
    "member=['apple','bus','car','dog','egg']\n",
    "for each in member:\n",
    "    print(each , len(member))"
   ]
  },
  {
   "cell_type": "code",
   "execution_count": null,
   "metadata": {},
   "outputs": [],
   "source": [
    "member=['apple','bus','car','dog','egg']\n",
    "for each in member:\n",
    "    print(each , len(each))"
   ]
  },
  {
   "source": [
    "### 循环控制语句`continue`"
   ],
   "cell_type": "markdown",
   "metadata": {}
  },
  {
   "cell_type": "code",
   "execution_count": null,
   "metadata": {},
   "outputs": [],
   "source": [
    "for i in range(10):\n",
    "    if i%2 == 0:\n",
    "        print(i)\n",
    "        continue\n",
    "    i+=2\n",
    "    print(i)"
   ]
  },
  {
   "source": [
    "### `while`循环"
   ],
   "cell_type": "markdown",
   "metadata": {}
  },
  {
   "cell_type": "code",
   "execution_count": null,
   "metadata": {},
   "outputs": [],
   "source": [
    "import random\n",
    "secret=random.randint(1,10)\n",
    "\n",
    "temp=input(\"guess the number in my mind:\")\n",
    "guess=int (temp)\n",
    "if guess == secret:\n",
    "        print(\"Nice Try!\")\n",
    "else:\n",
    "    if guess > secret:\n",
    "        print(\"your number is bigger than mine.\")\n",
    "    else:\n",
    "        print(\"your number is smaller than mine\")\n",
    "\n",
    "while guess!=secret:\n",
    "    temp=input(\"try again:\")    \n",
    "    guess=int (temp)\n",
    "    if guess == secret:\n",
    "        print(\"Nice Try!\")\n",
    "    else:\n",
    "        if guess > secret:\n",
    "             print(\"your number is bigger than mine.\")\n",
    "        else:\n",
    "            print(\"your number is smaller than mine\")\n",
    "\n",
    "print(\"Game Over!\")"
   ]
  },
  {
   "source": [
    "### 循环控制语句`break`"
   ],
   "cell_type": "markdown",
   "metadata": {}
  },
  {
   "cell_type": "code",
   "execution_count": null,
   "metadata": {},
   "outputs": [],
   "source": [
    "bingo='小甲鱼是帅哥'\n",
    "answer=input('请输入小甲鱼最想听的一句话：')\n",
    "while True:\n",
    "    if answer==bingo:\n",
    "        break\n",
    "    answer=input('抱歉，错了，请重新输入：')\n",
    "print('诶哟，帅哦~')\n",
    "print('您真是小甲鱼肚子里的蛔虫啊^_^')\n"
   ]
  },
  {
   "cell_type": "code",
   "execution_count": null,
   "metadata": {},
   "outputs": [],
   "source": []
  }
 ]
}