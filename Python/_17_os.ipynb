{
 "metadata": {
  "language_info": {
   "codemirror_mode": {
    "name": "ipython",
    "version": 3
   },
   "file_extension": ".py",
   "mimetype": "text/x-python",
   "name": "python",
   "nbconvert_exporter": "python",
   "pygments_lexer": "ipython3",
   "version": "3.7.9-final"
  },
  "orig_nbformat": 2,
  "kernelspec": {
   "name": "python3",
   "display_name": "Python 3.7.9 64-bit ('pytorch': conda)",
   "metadata": {
    "interpreter": {
     "hash": "216535866d4b2bfe10db22ecccd61592cdd2edf245211f5c4d4932e554629d9e"
    }
   }
  }
 },
 "nbformat": 4,
 "nbformat_minor": 2,
 "cells": [
  {
   "cell_type": "code",
   "execution_count": 32,
   "metadata": {},
   "outputs": [
    {
     "output_type": "execute_result",
     "data": {
      "text/plain": [
       "'c:\\\\Users\\\\liang\\\\Desktop'"
      ]
     },
     "metadata": {},
     "execution_count": 32
    }
   ],
   "source": [
    "import os\n",
    "\n",
    "os.getcwd()\n"
   ]
  },
  {
   "cell_type": "code",
   "execution_count": 15,
   "metadata": {},
   "outputs": [
    {
     "output_type": "execute_result",
     "data": {
      "text/plain": [
       "'c:\\\\Users\\\\liang\\\\Desktop\\\\Graduate Works\\\\Python\\\\CODES'"
      ]
     },
     "metadata": {},
     "execution_count": 15
    }
   ],
   "source": [
    "\n",
    "\n",
    "os.chdir('c:\\\\Users\\\\liang\\\\Desktop\\\\Graduate Works\\\\Python\\\\CODES')    #改变当前路径\n",
    "os.getcwd()\n"
   ]
  },
  {
   "cell_type": "code",
   "execution_count": 31,
   "metadata": {},
   "outputs": [
    {
     "output_type": "execute_result",
     "data": {
      "text/plain": [
       "['A',\n",
       " 'B',\n",
       " 'desktop.ini',\n",
       " 'Desktops',\n",
       " 'Google Chrome.lnk',\n",
       " 'Graduate Works',\n",
       " 'Steam.lnk',\n",
       " 'Visual Studio Code.lnk',\n",
       " '~$ Microsoft Word 文档.docx',\n",
       " '~$仪数字化方案.docx',\n",
       " '~WRL3676.tmp',\n",
       " '~WRL3925.tmp',\n",
       " '光流.md',\n",
       " '关于.md',\n",
       " '概念.md',\n",
       " '研究生考试',\n",
       " '编码.md',\n",
       " '腾讯QQ.lnk']"
      ]
     },
     "metadata": {},
     "execution_count": 31
    }
   ],
   "source": [
    "\n",
    "os.listdir()    #列出当前目录存在的文件\n"
   ]
  },
  {
   "cell_type": "code",
   "execution_count": 25,
   "metadata": {},
   "outputs": [],
   "source": [
    "os.chdir('c:\\\\Users\\\\liang\\\\Desktop')\n",
    "os.getcwd()\n",
    "os.mkdir('A')   #创建单层目录，目录已存在报错\n",
    "os.makedirs('c:\\\\Users\\\\liang\\\\Desktop\\\\B\\\\C')  #创建多层目录，目录已存在报错\n"
   ]
  },
  {
   "cell_type": "code",
   "execution_count": 30,
   "metadata": {},
   "outputs": [],
   "source": [
    "test = open('.\\\\A\\\\test.txt','w')\n",
    "test.close()\n",
    "\n",
    "os.remove('.\\\\A\\\\test.txt')\n",
    "os.rmdir('A')   #目录非空时，无法删除\n",
    "\n"
   ]
  },
  {
   "cell_type": "code",
   "execution_count": 34,
   "metadata": {},
   "outputs": [
    {
     "output_type": "execute_result",
     "data": {
      "text/plain": [
       "0"
      ]
     },
     "metadata": {},
     "execution_count": 34
    }
   ],
   "source": [
    "\n",
    "# os.system('cmd')  #打开系统命令行窗口\n",
    "os.system('calc')   #打开系统计算器"
   ]
  },
  {
   "cell_type": "code",
   "execution_count": 35,
   "metadata": {},
   "outputs": [
    {
     "output_type": "execute_result",
     "data": {
      "text/plain": [
       "['A',\n",
       " 'B',\n",
       " 'desktop.ini',\n",
       " 'Desktops',\n",
       " 'Google Chrome.lnk',\n",
       " 'Graduate Works',\n",
       " 'Steam.lnk',\n",
       " 'Visual Studio Code.lnk',\n",
       " '~$ Microsoft Word 文档.docx',\n",
       " '~$仪数字化方案.docx',\n",
       " '~WRL3676.tmp',\n",
       " '~WRL3925.tmp',\n",
       " '光流.md',\n",
       " '关于.md',\n",
       " '概念.md',\n",
       " '研究生考试',\n",
       " '编码.md',\n",
       " '腾讯QQ.lnk']"
      ]
     },
     "metadata": {},
     "execution_count": 35
    }
   ],
   "source": [
    "\n",
    "os.curdir   #指代当前目录\n",
    "os.pardir   #指代上一层目录\n",
    "os.listdir(os.curdir)\n"
   ]
  },
  {
   "cell_type": "code",
   "execution_count": 37,
   "metadata": {},
   "outputs": [
    {
     "output_type": "execute_result",
     "data": {
      "text/plain": [
       "'nt'"
      ]
     },
     "metadata": {},
     "execution_count": 37
    }
   ],
   "source": [
    "\n",
    "os.sep      #输出操作系统特定的路径分隔符（Windows为'\\\\'，Linux为'/'\n",
    "os.linesep  #当前平台使用的终止符\n",
    "os.name     #指代当前操作系统\n"
   ]
  },
  {
   "cell_type": "code",
   "execution_count": null,
   "metadata": {},
   "outputs": [],
   "source": []
  }
 ]
}