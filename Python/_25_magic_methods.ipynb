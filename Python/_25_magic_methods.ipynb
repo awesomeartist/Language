{
 "metadata": {
  "language_info": {
   "codemirror_mode": {
    "name": "ipython",
    "version": 3
   },
   "file_extension": ".py",
   "mimetype": "text/x-python",
   "name": "python",
   "nbconvert_exporter": "python",
   "pygments_lexer": "ipython3",
   "version": "3.7.0"
  },
  "orig_nbformat": 2,
  "kernelspec": {
   "name": "python370jvsc74a57bd0429c9996d59adc7f4cefc806ef40bdc5f24259d7042b8b8803fdb2f234fb1764",
   "display_name": "Python 3.7.0 64-bit ('base': conda)"
  }
 },
 "nbformat": 4,
 "nbformat_minor": 2,
 "cells": [
  {
   "source": [
    "## 魔法方法\n",
    ">魔法方法总是被双下划线包围，例如`__init__(self[, ...])`\n",
    "\n",
    ">魔法方法是面向对象Python的一切"
   ],
   "cell_type": "markdown",
   "metadata": {}
  },
  {
   "cell_type": "code",
   "execution_count": 1,
   "metadata": {},
   "outputs": [],
   "source": [
    "#__init__(self[, ...])魔法方法\n",
    "class Rectangle(object):\n",
    "    def __init__(self, x, y):\n",
    "        self.x = x\n",
    "        self.y = y\n",
    "    \n",
    "    def getPeri(self):\n",
    "        return (self.x + self.y) * 2\n",
    "    \n",
    "    def getArea(self):\n",
    "        return self.x * self.y\n"
   ]
  },
  {
   "cell_type": "code",
   "execution_count": 2,
   "metadata": {},
   "outputs": [
    {
     "output_type": "stream",
     "name": "stdout",
     "text": [
      "18\n20\n"
     ]
    }
   ],
   "source": [
    "rect = Rectangle(4, 5)\n",
    "print(rect.getPeri())\n",
    "print(rect.getArea())"
   ]
  },
  {
   "cell_type": "code",
   "execution_count": 5,
   "metadata": {},
   "outputs": [],
   "source": [
    "#__new_(cls[, ...])魔法方法\n",
    "\n",
    "class Capstr(str):\n",
    "    def __new__(cls, string):\n",
    "        string = string.upper()\n",
    "        return str.__new__(cls, string)\n",
    "    "
   ]
  },
  {
   "cell_type": "code",
   "execution_count": 6,
   "metadata": {},
   "outputs": [
    {
     "output_type": "stream",
     "name": "stdout",
     "text": [
      "a =  I LOVE CHINA!\n"
     ]
    }
   ],
   "source": [
    "a = Capstr(' I love China!')\n",
    "print('a =', a)"
   ]
  },
  {
   "cell_type": "code",
   "execution_count": 7,
   "metadata": {},
   "outputs": [],
   "source": [
    "#__del__(self)魔法方法\n",
    "class C(object):\n",
    "    def __init__(self):\n",
    "        print('我是__init_()方法，我被调用了···')\n",
    "    \n",
    "    def __del__(self):\n",
    "        print('我是__del_()方法，我被调用了···')"
   ]
  },
  {
   "cell_type": "code",
   "execution_count": 9,
   "metadata": {},
   "outputs": [
    {
     "output_type": "stream",
     "name": "stdout",
     "text": [
      "我是__init_()方法，我被调用了···\ndel c3\ndel c2\ndel c1\n我是__del_()方法，我被调用了···\n"
     ]
    }
   ],
   "source": [
    "c1 = C()\n",
    "c2 = c1\n",
    "c3 = c2\n",
    "print('del c3')\n",
    "del c3\n",
    "print('del c2')\n",
    "del c2\n",
    "print('del c1')\n",
    "del c1"
   ]
  },
  {
   "source": [
    "## 魔法方法：算数运算\n",
    ">进行算数运算时调用魔法方法"
   ],
   "cell_type": "markdown",
   "metadata": {}
  },
  {
   "cell_type": "code",
   "execution_count": 2,
   "metadata": {},
   "outputs": [
    {
     "output_type": "stream",
     "name": "stdout",
     "text": [
      "<class 'builtin_function_or_method'>\n<class 'builtin_function_or_method'>\n<class 'type'>\n<class 'type'>\n"
     ]
    }
   ],
   "source": [
    "#一切皆对象\n",
    "print(type(len))\n",
    "print(type(dir))\n",
    "print(type(int))\n",
    "print(type(list))"
   ]
  },
  {
   "cell_type": "code",
   "execution_count": 1,
   "metadata": {},
   "outputs": [],
   "source": [
    "class New_int(int):\n",
    "    def __add__(self, other):\n",
    "        return int.__add__(self, other)\n",
    "    \n",
    "    def __sub__(self, other):\n",
    "        return int.__sub__(self, other)\n",
    "\n",
    "# class Try_int(int):\n",
    "#     def __add__(self, other):\n",
    "#         return self + other\n",
    "    \n",
    "#     def __sub__(self, other):\n",
    "#         return self - other\n",
    "\n",
    "class Try_int(int):\n",
    "    def __add__(self, other):\n",
    "        return int(self) + other\n",
    "    \n",
    "    def __sub__(self, other):\n",
    "        return int(self) - other"
   ]
  },
  {
   "cell_type": "code",
   "execution_count": 2,
   "metadata": {},
   "outputs": [
    {
     "output_type": "stream",
     "name": "stdout",
     "text": [
      "a + b = 8\nc + d = 10\n"
     ]
    }
   ],
   "source": [
    "a = New_int(3)\n",
    "b = New_int(5)\n",
    "print('a + b =', a + b)\n",
    "\n",
    "c = Try_int(4)\n",
    "d = Try_int(6)\n",
    "print('c + d =', c + d) #无限递归报错"
   ]
  },
  {
   "cell_type": "code",
   "execution_count": null,
   "metadata": {},
   "outputs": [],
   "source": [
    "#重写系统魔法方法\n",
    "class int(int):\n",
    "    def __add__(self, other):\n",
    "        return int.__sub__(self, other)\n",
    "    \n",
    "    def __sub__(self, other):\n",
    "        return int.__add__(self, other)"
   ]
  },
  {
   "cell_type": "code",
   "execution_count": 3,
   "metadata": {},
   "outputs": [],
   "source": [
    "#反运算\n",
    "#Nint是int的子类，如果右操作数的类型是左操作数类型的子类，并且该子类提供了操作的反射方法\n",
    "# 则该方法在左操作数的非反射方法之前被调用\n",
    "class Nint(int):\n",
    "    def __radd__(self, other):\n",
    "        return int.__sub__(self, other)#重写radd\n"
   ]
  },
  {
   "cell_type": "code",
   "execution_count": 5,
   "metadata": {},
   "outputs": [
    {
     "output_type": "stream",
     "name": "stdout",
     "text": [
      "a + b = 8\n1 + b = 4\n"
     ]
    }
   ],
   "source": [
    "a = Nint(3)\n",
    "b = Nint(5)\n",
    "print('a + b =', a + b)\n",
    "print('1 + b =', 1 + b)"
   ]
  },
  {
   "cell_type": "code",
   "execution_count": null,
   "metadata": {},
   "outputs": [],
   "source": [
    "#增量运算\n",
    "#+="
   ]
  },
  {
   "cell_type": "code",
   "execution_count": null,
   "metadata": {},
   "outputs": [],
   "source": [
    "#一元操作符"
   ]
  },
  {
   "source": [
    "## 属性访问"
   ],
   "cell_type": "markdown",
   "metadata": {}
  },
  {
   "cell_type": "code",
   "execution_count": null,
   "metadata": {},
   "outputs": [],
   "source": []
  }
 ]
}