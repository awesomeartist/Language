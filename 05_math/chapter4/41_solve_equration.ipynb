{
 "cells": [
  {
   "cell_type": "markdown",
   "metadata": {},
   "source": [
    "## 4.4 solving equations"
   ]
  },
  {
   "cell_type": "code",
   "execution_count": 7,
   "metadata": {},
   "outputs": [
    {
     "data": {
      "text/plain": [
       "[8]"
      ]
     },
     "execution_count": 7,
     "metadata": {},
     "output_type": "execute_result"
    }
   ],
   "source": [
    "from sympy import Symbol, solve\n",
    "x = Symbol('x')\n",
    "expr = x - 5 - 3\n",
    "solve(expr)"
   ]
  },
  {
   "cell_type": "markdown",
   "metadata": {},
   "source": [
    "### 4.4.1 Solving Quadratic Equation"
   ]
  },
  {
   "cell_type": "code",
   "execution_count": 9,
   "metadata": {},
   "outputs": [
    {
     "data": {
      "text/plain": [
       "[{x: -4}, {x: -1}]"
      ]
     },
     "execution_count": 9,
     "metadata": {},
     "output_type": "execute_result"
    }
   ],
   "source": [
    "from sympy import solve, Symbol\n",
    "\n",
    "x = Symbol('x')\n",
    "\n",
    "expr = x**2 + 5*x +4\n",
    "solve(expr, dict=True)\n"
   ]
  },
  {
   "cell_type": "code",
   "execution_count": 10,
   "metadata": {},
   "outputs": [
    {
     "data": {
      "text/plain": [
       "[{x: -1/2 - sqrt(3)*I/2}, {x: -1/2 + sqrt(3)*I/2}]"
      ]
     },
     "execution_count": 10,
     "metadata": {},
     "output_type": "execute_result"
    }
   ],
   "source": [
    "from sympy import solve, Symbol\n",
    "\n",
    "x = Symbol('x')\n",
    "\n",
    "expr = x**2 + x + 1\n",
    "solve(expr, dict=True)"
   ]
  },
  {
   "cell_type": "markdown",
   "metadata": {},
   "source": [
    "### 4.4.3 Solving for One Variable in Terms of Others"
   ]
  },
  {
   "cell_type": "code",
   "execution_count": 13,
   "metadata": {},
   "outputs": [
    {
     "data": {
      "text/plain": [
       "[{x: (-b - sqrt(-4*a*c + b**2))/(2*a)}, {x: (-b + sqrt(-4*a*c + b**2))/(2*a)}]"
      ]
     },
     "execution_count": 13,
     "metadata": {},
     "output_type": "execute_result"
    }
   ],
   "source": [
    "from sympy import symbols, solve\n",
    "\n",
    "x = symbols('x')\n",
    "a, b, c = symbols('a, b, c')\n",
    "expr = a*x**2 + b*x + c\n",
    "solve(expr, x, dict=True)"
   ]
  },
  {
   "cell_type": "code",
   "execution_count": 33,
   "metadata": {},
   "outputs": [
    {
     "name": "stdout",
     "output_type": "stream",
     "text": [
      "[{t: (-u - 1.4142135623731*sqrt(a*s + 0.5*u**2))/a}, {t: (-u + 1.4142135623731*sqrt(a*s + 0.5*u**2))/a}]\n"
     ]
    },
    {
     "data": {
      "text/latex": [
       "$\\displaystyle \\frac{- u - 1.4142135623731 \\sqrt{a s + 0.5 u^{2}}}{a}$"
      ],
      "text/plain": [
       "(-u - 1.4142135623731*sqrt(a*s + 0.5*u**2))/a"
      ]
     },
     "metadata": {},
     "output_type": "display_data"
    },
    {
     "data": {
      "text/latex": [
       "$\\displaystyle \\frac{- u + 1.4142135623731 \\sqrt{a s + 0.5 u^{2}}}{a}$"
      ],
      "text/plain": [
       "(-u + 1.4142135623731*sqrt(a*s + 0.5*u**2))/a"
      ]
     },
     "metadata": {},
     "output_type": "display_data"
    }
   ],
   "source": [
    "'''\n",
    "s = u*t + 1/2 * a * t**2\n",
    "'''\n",
    "\n",
    "from sympy import symbols, solve\n",
    "from IPython.display import display\n",
    "\n",
    "t = symbols('t')\n",
    "s, u, a = symbols('s, u, a')\n",
    "expr = u*t + 0.5*a*t**2 - s\n",
    "sol = solve(expr, t, dict=True)\n",
    "print(sol)\n",
    "display(sol[0][t], sol[1][t])\n",
    "\n"
   ]
  },
  {
   "cell_type": "markdown",
   "metadata": {},
   "source": [
    "### 4.4.4 Solving a System of Linear Equations"
   ]
  },
  {
   "cell_type": "code",
   "execution_count": 38,
   "metadata": {},
   "outputs": [
    {
     "name": "stdout",
     "output_type": "stream",
     "text": [
      "[{x: 24/5, y: -6/5}]\n"
     ]
    },
    {
     "data": {
      "text/latex": [
       "$\\displaystyle 0$"
      ],
      "text/plain": [
       "0"
      ]
     },
     "execution_count": 38,
     "metadata": {},
     "output_type": "execute_result"
    }
   ],
   "source": [
    "from sympy import symbols, solve\n",
    "\n",
    "x, y = symbols('x, y')\n",
    "expr1 = 2*x + 3*y - 6\n",
    "expr2 = 3*x + 2*y -12\n",
    "solve((expr1, expr2), dict=True)\n",
    "\n",
    "soln = solve((expr1, expr2), dict=True)\n",
    "print(soln)\n",
    "\n",
    "soln = soln[0]\n",
    "# expr1.subs({x:soln[x], y:soln[y]})\n",
    "# expr2.subs({x:soln[x], y:soln[y]})\n",
    "expr1.subs(soln)\n",
    "expr2.subs(soln)\n"
   ]
  }
 ],
 "metadata": {
  "kernelspec": {
   "display_name": "math",
   "language": "python",
   "name": "python3"
  },
  "language_info": {
   "codemirror_mode": {
    "name": "ipython",
    "version": 3
   },
   "file_extension": ".py",
   "mimetype": "text/x-python",
   "name": "python",
   "nbconvert_exporter": "python",
   "pygments_lexer": "ipython3",
   "version": "3.9.19"
  }
 },
 "nbformat": 4,
 "nbformat_minor": 2
}
