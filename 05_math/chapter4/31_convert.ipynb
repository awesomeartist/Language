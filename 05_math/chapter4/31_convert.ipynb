{
 "cells": [
  {
   "cell_type": "markdown",
   "metadata": {},
   "source": [
    "### 4.3 Converting Strings to Mathematical Expression"
   ]
  },
  {
   "cell_type": "code",
   "execution_count": null,
   "metadata": {},
   "outputs": [],
   "source": [
    "from sympy import sympify\n",
    "from IPython.display import display\n",
    "\n",
    "expr = input('Enter a mathematical expression:')\n",
    "expr = sympify(expr)\n",
    "display(2*expr)"
   ]
  },
  {
   "cell_type": "code",
   "execution_count": null,
   "metadata": {},
   "outputs": [],
   "source": [
    "'''\n",
    "Product of two expression\n",
    "'''\n",
    "\n",
    "from sympy import sympify, expand\n",
    "from sympy.core.sympify import SympifyError\n",
    "from IPython.display import display\n",
    "\n",
    "def product(expr1, expr2):\n",
    "    prod = expand(expr1*expr2)\n",
    "    display(prod)\n",
    "\n",
    "if __name__ == '__main__':\n",
    "    expr1 = input('Enter the first expression:')\n",
    "    expr2 = input('Enter the second expression:')\n",
    "\n",
    "    try:\n",
    "        expr1 = sympify(expr1)\n",
    "        expr2 = sympify(expr2)\n",
    "    except SympifyError:\n",
    "        print('Invalid input')\n",
    "    else:\n",
    "        product(expr1, expr2)"
   ]
  }
 ],
 "metadata": {
  "language_info": {
   "name": "python"
  }
 },
 "nbformat": 4,
 "nbformat_minor": 2
}
