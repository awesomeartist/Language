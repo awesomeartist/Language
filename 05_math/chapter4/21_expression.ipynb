{
 "cells": [
  {
   "cell_type": "markdown",
   "metadata": {},
   "source": [
    "###  4.2.1 Factorizing and Expanding Expressions"
   ]
  },
  {
   "cell_type": "code",
   "execution_count": null,
   "metadata": {},
   "outputs": [],
   "source": [
    "from sympy import Symbol\n",
    "from sympy import factor\n",
    "from sympy import expand\n",
    "\n",
    "x = Symbol('x')\n",
    "y = Symbol('y')\n",
    "\n",
    "expr1 = x**2 - y**2\n",
    "print(factor(expr1))\n",
    "\n",
    "expr2 = x**3 + 3*x**2*y + 3*x*y**2 + y**3\n",
    "print(factor(expr2))\n",
    "\n",
    "factors = factor(expr2)\n",
    "print(expand(factors))\n",
    "\n",
    "expr3 = x + y + x*y\n",
    "print(factor(expr3))\n"
   ]
  },
  {
   "cell_type": "markdown",
   "metadata": {},
   "source": [
    "### 4.2.2 Pretty Printing"
   ]
  },
  {
   "cell_type": "code",
   "execution_count": 3,
   "metadata": {},
   "outputs": [
    {
     "name": "stdout",
     "output_type": "stream",
     "text": [
      "x**2 + 2*x*y + y**2\n",
      " 2            2\n",
      "x  + 2⋅x⋅y + y \n"
     ]
    },
    {
     "data": {
      "text/latex": [
       "$\\displaystyle x^{2} + 2 x y + y^{2}$"
      ],
      "text/plain": [
       " 2            2\n",
       "x  + 2⋅x⋅y + y "
      ]
     },
     "metadata": {},
     "output_type": "display_data"
    },
    {
     "name": "stdout",
     "output_type": "stream",
     "text": [
      "           2\n",
      "1 + 2⋅x + x \n"
     ]
    }
   ],
   "source": [
    "from sympy import symbols\n",
    "from sympy import pprint\n",
    "from sympy import init_printing\n",
    "from IPython.display import display\n",
    "\n",
    "x,y = symbols('x,y')\n",
    "expr1 = x**2 + 2*x*y + y**2\n",
    "print(expr1)\n",
    "# init_printing(use_latex='mathjax')\n",
    "pprint(expr1)\n",
    "display(expr1)\n",
    "\n",
    "expr2 = 1 + 2*x + x**2\n",
    "init_printing(order='rev-lex')\n",
    "pprint(expr2)\n",
    "\n"
   ]
  },
  {
   "cell_type": "code",
   "execution_count": 1,
   "metadata": {},
   "outputs": [
    {
     "data": {
      "text/latex": [
       "$\\displaystyle \\frac{x^{5}}{5} + \\frac{x^{4}}{4} + \\frac{x^{3}}{3} + \\frac{x^{2}}{2} + x$"
      ],
      "text/plain": [
       "x**5/5 + x**4/4 + x**3/3 + x**2/2 + x"
      ]
     },
     "metadata": {},
     "output_type": "display_data"
    }
   ],
   "source": [
    "'''\n",
    "Print the series:\n",
    "x + x**2 + x**3 + ... + x**n\n",
    "    ____  _____         _____\n",
    "      2     3             n\n",
    "'''\n",
    "\n",
    "from sympy import Symbol, pprint, init_printing\n",
    "from IPython.display import display\n",
    "\n",
    "def print_series(n):\n",
    "\n",
    "\n",
    "    x = Symbol('x')\n",
    "    series = x\n",
    "    for i in range(2, n+1):\n",
    "        series = series + (x**i)/i\n",
    "    # initialize printing system with reverse order\n",
    "    # init_printing(order='rev-lex')\n",
    "    # pprint(series)\n",
    "    display(series)\n",
    "\n",
    "if __name__ == '__main__':\n",
    "    n = input('Enter the number of terms you want in the series:')\n",
    "    print_series(int(n))"
   ]
  },
  {
   "cell_type": "markdown",
   "metadata": {},
   "source": [
    "### 4.2.3 Substituting in Values"
   ]
  },
  {
   "cell_type": "code",
   "execution_count": 11,
   "metadata": {},
   "outputs": [
    {
     "data": {
      "text/latex": [
       "$\\displaystyle x^{2} + 2 x y + y^{2}$"
      ],
      "text/plain": [
       "x**2 + 2*x*y + y**2"
      ]
     },
     "metadata": {},
     "output_type": "display_data"
    },
    {
     "name": "stdout",
     "output_type": "stream",
     "text": [
      "x = 1, y = 1, res = 4\n"
     ]
    },
    {
     "data": {
      "text/plain": [
       "'substitute x with 1-y'"
      ]
     },
     "metadata": {},
     "output_type": "display_data"
    },
    {
     "data": {
      "text/latex": [
       "$\\displaystyle y^{2} + 2 y \\left(1 - y\\right) + \\left(1 - y\\right)^{2}$"
      ],
      "text/plain": [
       "y**2 + 2*y*(1 - y) + (1 - y)**2"
      ]
     },
     "metadata": {},
     "output_type": "display_data"
    },
    {
     "data": {
      "text/latex": [
       "$\\displaystyle 1$"
      ],
      "text/plain": [
       "1"
      ]
     },
     "metadata": {},
     "output_type": "display_data"
    }
   ],
   "source": [
    "from sympy import symbols, simplify\n",
    "from IPython.display import display\n",
    "\n",
    "x, y = symbols('x, y')\n",
    "expr = x*x + x*y + x*y + y*y\n",
    "x1 = 1\n",
    "y1 = 1\n",
    "res = expr.subs({x:x1, y:y1})\n",
    "display(expr)\n",
    "print('x = {0}, y = {1}, res = {2}'.format(x1, y1, res))\n",
    "\n",
    "print('substitute x with 1-y')\n",
    "expr_sub = expr.subs({x:1-y})\n",
    "display(expr_sub)\n",
    "display(simplify(expr_sub))"
   ]
  },
  {
   "cell_type": "code",
   "execution_count": 12,
   "metadata": {},
   "outputs": [
    {
     "data": {
      "text/latex": [
       "$\\displaystyle \\frac{x^{5}}{5} + \\frac{x^{4}}{4} + \\frac{x^{3}}{3} + \\frac{x^{2}}{2} + x$"
      ],
      "text/plain": [
       "x**5/5 + x**4/4 + x**3/3 + x**2/2 + x"
      ]
     },
     "metadata": {},
     "output_type": "display_data"
    },
    {
     "name": "stdout",
     "output_type": "stream",
     "text": [
      "Value of the serises at 1: 137/60\n"
     ]
    }
   ],
   "source": [
    "'''\n",
    "Print the series:\n",
    "x + x**2 + x**3 + ... + x**n\n",
    "    ____  _____         _____\n",
    "      2     3             n\n",
    "'''\n",
    "\n",
    "from sympy import Symbol, pprint, init_printing\n",
    "from IPython.display import display\n",
    "\n",
    "def print_series(n, x_value):\n",
    "\n",
    "\n",
    "    x = Symbol('x')\n",
    "    series = x\n",
    "    for i in range(2, n+1):\n",
    "        series = series + (x**i)/i\n",
    "    display(series)\n",
    "    \n",
    "    # Evaluate the series with value\n",
    "    series_value = series.subs({x:x_value})\n",
    "    print('Value of the serises at {0}: {1}'.format(x_value, series_value))\n",
    "\n",
    "if __name__ == '__main__':\n",
    "    n = input('Enter the number of terms you want in the series:')\n",
    "    x_value = input('Enter the value of x at  which you want to evaluate the series:')\n",
    "    print_series(int(n), x_value)"
   ]
  }
 ],
 "metadata": {
  "kernelspec": {
   "display_name": "math",
   "language": "python",
   "name": "python3"
  },
  "language_info": {
   "codemirror_mode": {
    "name": "ipython",
    "version": 3
   },
   "file_extension": ".py",
   "mimetype": "text/x-python",
   "name": "python",
   "nbconvert_exporter": "python",
   "pygments_lexer": "ipython3",
   "version": "3.9.19"
  }
 },
 "nbformat": 4,
 "nbformat_minor": 2
}
