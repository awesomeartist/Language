{
 "cells": [
  {
   "cell_type": "markdown",
   "metadata": {},
   "source": [
    "### 5.1.1 Set Construction"
   ]
  },
  {
   "cell_type": "code",
   "execution_count": 6,
   "metadata": {},
   "outputs": [
    {
     "name": "stdout",
     "output_type": "stream",
     "text": [
      "s1 = {2, 4, 6}\n",
      "s2 = {1/5, 1.5, 3}\n",
      "len(s2) = 3\n"
     ]
    }
   ],
   "source": [
    "from sympy import FiniteSet\n",
    "from fractions import Fraction\n",
    "\n",
    "s1 = FiniteSet(2, 4, 6)\n",
    "s2 = FiniteSet(1.5, Fraction(1, 5), 3)\n",
    "print('s1 =', s1)\n",
    "print('s2 =', s2)\n",
    "print('len(s2) = {0}'.format(len(s2)))"
   ]
  },
  {
   "cell_type": "code",
   "execution_count": 8,
   "metadata": {},
   "outputs": [
    {
     "name": "stdout",
     "output_type": "stream",
     "text": [
      "{1, 3, 5}\n",
      "3 in s: True\n"
     ]
    }
   ],
   "source": [
    "# checking whether a number in a set\n",
    "\n",
    "from sympy import FiniteSet\n",
    "\n",
    "s = FiniteSet(1, 3, 5)\n",
    "print(s, '3 in s: {0}'.format(3 in s), sep='\\n')"
   ]
  },
  {
   "cell_type": "code",
   "execution_count": 9,
   "metadata": {},
   "outputs": [
    {
     "name": "stdout",
     "output_type": "stream",
     "text": [
      "EmptySet\n"
     ]
    }
   ],
   "source": [
    "# creating a empty set\n",
    "\n",
    "from sympy import FiniteSet\n",
    "\n",
    "s = FiniteSet()\n",
    "print(s)"
   ]
  },
  {
   "cell_type": "code",
   "execution_count": 11,
   "metadata": {},
   "outputs": [
    {
     "name": "stdout",
     "output_type": "stream",
     "text": [
      "s1 = {0, 1, 2}\n",
      "s2 = {0, 1, 2}\n"
     ]
    }
   ],
   "source": [
    "# creating set from lists or tuples\n",
    "\n",
    "from sympy import FiniteSet\n",
    "\n",
    "list = range(3)\n",
    "tuple = range(3)\n",
    "\n",
    "s1 = FiniteSet(*list)\n",
    "s2 = FiniteSet(*tuple)\n",
    "\n",
    "print('s1 =', s1)\n",
    "print('s2 =', s2)"
   ]
  },
  {
   "cell_type": "code",
   "execution_count": 12,
   "metadata": {},
   "outputs": [
    {
     "name": "stdout",
     "output_type": "stream",
     "text": [
      "{1, 2, 3}\n"
     ]
    }
   ],
   "source": [
    "# set repetition and order\n",
    "\n",
    "from sympy import FiniteSet\n",
    "\n",
    "members = [1, 2, 3, 2]\n",
    "s = FiniteSet(*members)\n",
    "print(s)"
   ]
  },
  {
   "cell_type": "code",
   "execution_count": 18,
   "metadata": {},
   "outputs": [
    {
     "name": "stdout",
     "output_type": "stream",
     "text": [
      "1\n",
      "2\n",
      "3\n",
      "4\n",
      "5\n"
     ]
    }
   ],
   "source": [
    "from sympy import FiniteSet\n",
    "\n",
    "# list = range(1, 4)\n",
    "list = [1, 2, 3, 5, 4]\n",
    "s = FiniteSet(*list)\n",
    "for member in s:\n",
    "    print(member)"
   ]
  },
  {
   "cell_type": "code",
   "execution_count": 19,
   "metadata": {},
   "outputs": [
    {
     "name": "stdout",
     "output_type": "stream",
     "text": [
      "True\n"
     ]
    }
   ],
   "source": [
    "from sympy import FiniteSet\n",
    "\n",
    "s1 = FiniteSet(2, 3, 4)\n",
    "s2 = FiniteSet(3, 2, 4)\n",
    "print(s1 == s2)"
   ]
  }
 ],
 "metadata": {
  "kernelspec": {
   "display_name": "math",
   "language": "python",
   "name": "python3"
  },
  "language_info": {
   "codemirror_mode": {
    "name": "ipython",
    "version": 3
   },
   "file_extension": ".py",
   "mimetype": "text/x-python",
   "name": "python",
   "nbconvert_exporter": "python",
   "pygments_lexer": "ipython3",
   "version": "3.9.19"
  }
 },
 "nbformat": 4,
 "nbformat_minor": 2
}
