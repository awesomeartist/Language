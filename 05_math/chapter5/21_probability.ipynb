{
 "cells": [
  {
   "cell_type": "code",
   "execution_count": 4,
   "metadata": {},
   "outputs": [
    {
     "name": "stdout",
     "output_type": "stream",
     "text": [
      "Sample space: {1, 2, 3, 4, 5, 6, 7, 8, 9, 10, 11, 12, 13, 14, 15, 16, 17, 18, 19, 20}\n",
      "Event: {2, 3, 5, 7, 11, 13, 17, 19}\n",
      "Probability of rolling a prime:0.40000\n"
     ]
    }
   ],
   "source": [
    "\n",
    "from sympy import FiniteSet\n",
    "\n",
    "def probability(space, event):\n",
    "    return len(event)/len(space)\n",
    "\n",
    "def check_prime(number):\n",
    "    if number != 1:\n",
    "        for factor in range(2, number):\n",
    "            if number % factor == 0:\n",
    "                return False\n",
    "    else:\n",
    "        return False\n",
    "    return  True\n",
    "\n",
    "if __name__ == '__main__':\n",
    "    space = FiniteSet(*range(1, 21))\n",
    "    primes = []\n",
    "    for num in space:\n",
    "        if check_prime(num):primes.append(num)\n",
    "    event = FiniteSet(*primes)\n",
    "    p = probability(space, event)\n",
    "\n",
    "    print('Sample space: {0}'.format(space))\n",
    "    print('Event: {0}'.format(event))\n",
    "    print('Probability of rolling a prime:{0:.5f}'.format(p))\n",
    "\n"
   ]
  },
  {
   "cell_type": "code",
   "execution_count": 7,
   "metadata": {},
   "outputs": [
    {
     "name": "stdout",
     "output_type": "stream",
     "text": [
      "s = {1, 2, 3, 4, 5, 6}\n",
      "a = {1, 3, 5}\n",
      "b = {2, 3, 5}\n",
      "e1 = {1, 2, 3, 5}\n",
      "e2 = {3, 5}\n",
      "p1 = 0.6666666666666666\n",
      "p2 = 0.3333333333333333\n"
     ]
    }
   ],
   "source": [
    "from sympy import FiniteSet\n",
    "\n",
    "s = FiniteSet(1, 2, 3, 4, 5, 6)\n",
    "a = FiniteSet(1, 3, 5)\n",
    "b = FiniteSet(2, 3, 5)\n",
    "e1 = a.union(b)\n",
    "e2 = a.intersect(b)\n",
    "\n",
    "print('s = {0}'.format(s))\n",
    "print('a = {0}'.format(a))\n",
    "print('b = {0}'.format(b))\n",
    "print('e1 = {0}'.format(e1))\n",
    "print('e2 = {0}'.format(e2))\n",
    "\n",
    "print('p1 = {0}'.format(len(e1)/len(s)))\n",
    "print('p2 = {0}'.format(len(e2)/len(s)))"
   ]
  },
  {
   "cell_type": "markdown",
   "metadata": {},
   "source": [
    "### 5.2.1 Generate Roll Number"
   ]
  },
  {
   "cell_type": "code",
   "execution_count": 32,
   "metadata": {},
   "outputs": [
    {
     "name": "stdout",
     "output_type": "stream",
     "text": [
      "random = 4\n",
      "random = 5\n"
     ]
    }
   ],
   "source": [
    "# Simulating a Die Roll\n",
    "\n",
    "import random\n",
    "\n",
    "print('random = {0}'.format(random.randint(1, 6)))\n",
    "print('random = {0}'.format(random.randint(1, 6)))"
   ]
  },
  {
   "cell_type": "code",
   "execution_count": 34,
   "metadata": {},
   "outputs": [
    {
     "name": "stdout",
     "output_type": "stream",
     "text": [
      "Rolled: 6\n",
      "Rolled: 3\n",
      "Rolled: 2\n",
      "Rolled: 1\n",
      "Rolled: 1\n",
      "Rolled: 3\n",
      "Rolled: 1\n",
      "Rolled: 6\n",
      "Score of 23 reached in 8 rolls\n"
     ]
    }
   ],
   "source": [
    "'''\n",
    "Roll a die until the total score is 20\n",
    "'''\n",
    "\n",
    "import matplotlib.pyplot as plt\n",
    "import random\n",
    "\n",
    "target_score = 20\n",
    "\n",
    "def roll():\n",
    "    return random.randint(1, 6)\n",
    "\n",
    "if __name__ == '__main__':\n",
    "    score = 0\n",
    "    num_rolls = 0\n",
    "    while score < target_score:\n",
    "        die_roll = roll()\n",
    "        num_rolls += 1\n",
    "        print('Rolled: {0}'.format(die_roll))\n",
    "        score += die_roll\n",
    "\n",
    "    print('Score of {0} reached in {1} rolls'.format(score, num_rolls))"
   ]
  },
  {
   "cell_type": "code",
   "execution_count": 42,
   "metadata": {},
   "outputs": [
    {
     "name": "stdout",
     "output_type": "stream",
     "text": [
      "23 23\n",
      "(6, 6, 6, 5)\n",
      "23 23\n",
      "(6, 6, 5, 6)\n",
      "23 23\n",
      "(6, 5, 6, 6)\n",
      "23 23\n",
      "(5, 6, 6, 6)\n",
      "24 23\n",
      "(6, 6, 6, 6)\n",
      "Probability: 0.00386\n"
     ]
    }
   ],
   "source": [
    "from sympy import FiniteSet\n",
    "import random\n",
    "\n",
    "def find_prob(target_score, max_rolls):\n",
    "    die_sides = FiniteSet(1, 2, 3, 4, 5, 6)\n",
    "    # Sample space\n",
    "    s = die_sides**max_rolls\n",
    "    # Find the event set\n",
    "    if max_rolls > 1:\n",
    "        success_rolls = []\n",
    "        for elem in s:\n",
    "            if sum(elem) >= target_score:\n",
    "                success_rolls.append(elem)\n",
    "    else:\n",
    "        if target_score > 6:\n",
    "            success_rolls = []\n",
    "        else:\n",
    "            success_rolls = []\n",
    "            for roll in die_sides:\n",
    "                if roll >= target_score:\n",
    "                    success_rolls.append(roll)\n",
    "    e = FiniteSet(*success_rolls)\n",
    "    # Calculate the probability of reaching target score\n",
    "    return len(e)/len(s)\n",
    "\n",
    "if __name__ == '__main__':\n",
    "\n",
    "    target_score = int(input('Enter the target score: '))\n",
    "    max_rolls = int(input('Enter the maximum number of rolls  allowed: '))\n",
    "    p = find_prob(target_score, max_rolls)\n",
    "    print('Probability: {0:.5f}'.format(p))"
   ]
  },
  {
   "cell_type": "markdown",
   "metadata": {},
   "source": [
    "### Nonuniform Random Numbers"
   ]
  },
  {
   "cell_type": "code",
   "execution_count": 59,
   "metadata": {},
   "outputs": [
    {
     "name": "stdout",
     "output_type": "stream",
     "text": [
      "Tails\n"
     ]
    }
   ],
   "source": [
    "import random\n",
    "\n",
    "def toss():\n",
    "    # 0 -> Heads, 1 -> Tails\n",
    "    if random.random() < 2/3:\n",
    "        return 0\n",
    "    else:\n",
    "        return 1\n",
    "\n",
    "if __name__ == '__main__':\n",
    "    if toss():\n",
    "        print('Heads')\n",
    "    else:\n",
    "        print('Tails')"
   ]
  },
  {
   "cell_type": "code",
   "execution_count": 95,
   "metadata": {},
   "outputs": [
    {
     "name": "stdout",
     "output_type": "stream",
     "text": [
      "10\n"
     ]
    }
   ],
   "source": [
    "''' \n",
    "Simulate a fictional ATM that dispense dollar bills\n",
    "of various denominations with varying probability\n",
    "'''\n",
    "\n",
    "import random\n",
    "\n",
    "def get_index(probability):\n",
    "    c_probability = 0\n",
    "    sum_probability = []\n",
    "\n",
    "    for p in probability:\n",
    "        c_probability +=p\n",
    "        sum_probability.append(c_probability)\n",
    "    \n",
    "    r = random.random()\n",
    "\n",
    "    for index, sp in enumerate(sum_probability):\n",
    "        if r <= sp:\n",
    "            return index\n",
    "    return len(probability)-1\n",
    "\n",
    "def dispense():\n",
    "    dollar_bills = [5, 10, 20, 50]\n",
    "    probability = [1/6, 1/6, 1/3, 1/3]\n",
    "    bill_index = get_index(probability)\n",
    "    return dollar_bills[bill_index]\n",
    "\n",
    "if __name__ == '__main__':\n",
    "    print(dispense())"
   ]
  }
 ],
 "metadata": {
  "kernelspec": {
   "display_name": "math",
   "language": "python",
   "name": "python3"
  },
  "language_info": {
   "codemirror_mode": {
    "name": "ipython",
    "version": 3
   },
   "file_extension": ".py",
   "mimetype": "text/x-python",
   "name": "python",
   "nbconvert_exporter": "python",
   "pygments_lexer": "ipython3",
   "version": "3.9.19"
  }
 },
 "nbformat": 4,
 "nbformat_minor": 2
}
