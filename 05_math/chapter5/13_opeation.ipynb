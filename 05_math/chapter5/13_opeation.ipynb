{
 "cells": [
  {
   "cell_type": "markdown",
   "metadata": {},
   "source": [
    "### 5.1.3 Set Operations"
   ]
  },
  {
   "cell_type": "markdown",
   "metadata": {},
   "source": [
    "### Union and Intersect"
   ]
  },
  {
   "cell_type": "code",
   "execution_count": 2,
   "metadata": {},
   "outputs": [
    {
     "name": "stdout",
     "output_type": "stream",
     "text": [
      "s1 = {1, 2, 4}\n",
      "s2 = {1, 2, 5}\n",
      "s3 = {3, 6, 7}\n",
      "the union set of s1 and s2: {1, 2, 4, 5}\n",
      "the intersect of s1 and s2: {1, 2}\n",
      "the union set of s1, s2, and s3: {1, 2, 3, 4, 5, 6, 7}\n",
      "the intersect of s1, s2, and s3: EmptySet\n"
     ]
    }
   ],
   "source": [
    "from sympy import FiniteSet\n",
    "\n",
    "s1 = FiniteSet(1, 2, 4)\n",
    "s2 = FiniteSet(1, 2, 5)\n",
    "s3 = FiniteSet(3, 6, 7)\n",
    "\n",
    "\n",
    "print('s1 = {0}'.format(s1))\n",
    "print('s2 = {0}'.format(s2))\n",
    "print('s3 = {0}'.format(s3))\n",
    "\n",
    "print('the union set of s1 and s2:', s1.union(s2))\n",
    "print('the intersect of s1 and s2:', s1.intersect(s2))\n",
    "\n",
    "print('the union set of s1, s2, and s3:', s1.union(s2).union(s3))\n",
    "print('the intersect of s1, s2, and s3:', s1.intersect(s2).intersect(s3))\n"
   ]
  },
  {
   "cell_type": "markdown",
   "metadata": {},
   "source": [
    "### Cartesian Product"
   ]
  },
  {
   "cell_type": "code",
   "execution_count": 7,
   "metadata": {},
   "outputs": [
    {
     "name": "stdout",
     "output_type": "stream",
     "text": [
      "s1 = {1, 3}\n",
      "s2 = {3, 7}\n",
      "s3 = ProductSet(ProductSet({1, 3}, {3, 7}), {1, 3})\n",
      "((1, 3), 1)\n",
      "((3, 3), 1)\n",
      "((1, 3), 3)\n",
      "((1, 7), 1)\n",
      "((3, 3), 3)\n",
      "((3, 7), 1)\n",
      "((1, 7), 3)\n",
      "((3, 7), 3)\n",
      "len(s3) = 8\n",
      "len(s1) * len(s2) = 4\n"
     ]
    }
   ],
   "source": [
    "from sympy import FiniteSet\n",
    "\n",
    "s1 = FiniteSet(1, 3)\n",
    "s2 = FiniteSet(3, 7)\n",
    "s3 = s1*s2*s1\n",
    "\n",
    "print('s1 = {0}'.format(s1))\n",
    "print('s2 = {0}'.format(s2))\n",
    "print('s3 = {0}'.format(s3))\n",
    "\n",
    "for elem in s3:\n",
    "    print(elem)\n",
    "\n",
    "print('len(s3) = {0}'.format(len(s3)))\n",
    "print('len(s1) * len(s2) = {0}'.format(len(s1)*len(s2)))"
   ]
  },
  {
   "cell_type": "code",
   "execution_count": 1,
   "metadata": {},
   "outputs": [
    {
     "name": "stdout",
     "output_type": "stream",
     "text": [
      "s = {1, 2}\n",
      "p = ProductSet({1, 2}, {1, 2}, {1, 2})\n",
      "(1, 1, 1)\n",
      "(2, 1, 1)\n",
      "(1, 2, 1)\n",
      "(2, 2, 1)\n",
      "(1, 1, 2)\n",
      "(2, 1, 2)\n",
      "(1, 2, 2)\n",
      "(2, 2, 2)\n"
     ]
    }
   ],
   "source": [
    "from sympy import FiniteSet\n",
    "\n",
    "s = FiniteSet(1, 2)\n",
    "p = s**3\n",
    "\n",
    "print('s = {0}'.format(s))\n",
    "print('p = {0}'.format(p))\n",
    "\n",
    "for elem in p:\n",
    "    print(elem)"
   ]
  }
 ],
 "metadata": {
  "kernelspec": {
   "display_name": "math",
   "language": "python",
   "name": "python3"
  },
  "language_info": {
   "codemirror_mode": {
    "name": "ipython",
    "version": 3
   },
   "file_extension": ".py",
   "mimetype": "text/x-python",
   "name": "python",
   "nbconvert_exporter": "python",
   "pygments_lexer": "ipython3",
   "version": "3.9.19"
  }
 },
 "nbformat": 4,
 "nbformat_minor": 2
}
