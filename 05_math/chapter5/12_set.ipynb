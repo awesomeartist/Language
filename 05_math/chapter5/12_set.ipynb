{
 "cells": [
  {
   "cell_type": "markdown",
   "metadata": {},
   "source": [
    "### 5.1.2 Subsets, Supersets, and Power Sets"
   ]
  },
  {
   "cell_type": "markdown",
   "metadata": {},
   "source": [
    "### Subsets"
   ]
  },
  {
   "cell_type": "code",
   "execution_count": 4,
   "metadata": {},
   "outputs": [
    {
     "name": "stdout",
     "output_type": "stream",
     "text": [
      "s = {1}\n",
      "t = {1, 2}\n",
      "s is a subset of t:True\n",
      "t is a subset of s:False\n",
      "s is a subset of s:True\n",
      "t id a subset of t:True\n",
      "s is a superset of t:False\n",
      "t is a superset of s:True\n"
     ]
    }
   ],
   "source": [
    "from sympy import FiniteSet\n",
    "\n",
    "s = FiniteSet(1)\n",
    "t = FiniteSet(1, 2)\n",
    "\n",
    "print('s =', s)\n",
    "print('t =', t)\n",
    "\n",
    "print('s is a subset of t:{0}'.format(s.is_subset(t)))\n",
    "print('t is a subset of s:{0}'.format(t.is_subset(s)))\n",
    "print('s is a subset of s:{0}'.format(s.is_subset(s)))\n",
    "print('t id a subset of t:{0}'.format(t.is_subset(t)))"
   ]
  },
  {
   "cell_type": "markdown",
   "metadata": {},
   "source": [
    "### Supersets"
   ]
  },
  {
   "cell_type": "code",
   "execution_count": 5,
   "metadata": {},
   "outputs": [
    {
     "name": "stdout",
     "output_type": "stream",
     "text": [
      "s = {1}\n",
      "t = {1, 2}\n",
      "s is a superset of t:False\n",
      "t is a superset of s:True\n",
      "s is a superset of s:True\n",
      "t is a superset of t:True\n"
     ]
    }
   ],
   "source": [
    "from sympy import FiniteSet\n",
    "\n",
    "s = FiniteSet(1)\n",
    "t = FiniteSet(1, 2)\n",
    "\n",
    "print('s =', s)\n",
    "print('t =', t)\n",
    "\n",
    "print('s is a superset of t:{0}'.format(s.is_superset(t)))\n",
    "print('t is a superset of s:{0}'.format(t.is_superset(s)))\n",
    "print('s is a superset of s:{0}'.format(s.is_superset(s)))\n",
    "print('t is a superset of t:{0}'.format(t.is_superset(t)))\n"
   ]
  },
  {
   "cell_type": "markdown",
   "metadata": {},
   "source": [
    "### Power sets"
   ]
  },
  {
   "cell_type": "code",
   "execution_count": 11,
   "metadata": {},
   "outputs": [
    {
     "name": "stdout",
     "output_type": "stream",
     "text": [
      "s = {1, 2, 3}\n",
      "ps = FiniteSet(EmptySet, {1}, {2}, {3}, {1, 2}, {1, 3}, {2, 3}, {1, 2, 3})\n",
      "len(s) = 3\n",
      "len(ps) = 8\n"
     ]
    }
   ],
   "source": [
    "from sympy import FiniteSet\n",
    "\n",
    "s = FiniteSet(1, 2, 3)\n",
    "ps = s.powerset()\n",
    "\n",
    "print('s =', s)\n",
    "print('ps =', ps)\n",
    "print('len(s) = {0}'.format(len(s)))\n",
    "print('len(ps) = {0}'.format(len(ps)))"
   ]
  },
  {
   "cell_type": "code",
   "execution_count": 12,
   "metadata": {},
   "outputs": [
    {
     "name": "stdout",
     "output_type": "stream",
     "text": [
      "s1 = {1, 2, 3}\n",
      "s2 = {1, 2, 3}\n",
      "s3 = {1, 2, 3, 4}\n",
      "s1 is a proper subset of s2: False\n",
      "s1 is a proper superset of s2: False\n",
      "s1 is a proper subset of s3: True\n",
      "s1 is a proper superset of s3: True\n"
     ]
    }
   ],
   "source": [
    "from sympy import FiniteSet\n",
    "\n",
    "s1 = FiniteSet(1, 2, 3)\n",
    "s2 = FiniteSet(1, 2, 3)\n",
    "s3 = FiniteSet(1, 2, 3, 4)\n",
    "\n",
    "print('s1 =', s1)\n",
    "print('s2 =', s2)\n",
    "print('s3 =', s3)\n",
    "\n",
    "print('s1 is a proper subset of s2: {0}'.format(s1.is_proper_subset(s2)))\n",
    "print('s1 is a proper superset of s2: {0}'.format(s1.is_proper_subset(s2)))\n",
    "print('s1 is a proper subset of s3: {0}'.format(s1.is_proper_subset(s3)))\n",
    "print('s1 is a proper superset of s3: {0}'.format(s1.is_proper_subset(s3)))"
   ]
  }
 ],
 "metadata": {
  "kernelspec": {
   "display_name": "math",
   "language": "python",
   "name": "python3"
  },
  "language_info": {
   "codemirror_mode": {
    "name": "ipython",
    "version": 3
   },
   "file_extension": ".py",
   "mimetype": "text/x-python",
   "name": "python",
   "nbconvert_exporter": "python",
   "pygments_lexer": "ipython3",
   "version": "3.9.19"
  }
 },
 "nbformat": 4,
 "nbformat_minor": 2
}
