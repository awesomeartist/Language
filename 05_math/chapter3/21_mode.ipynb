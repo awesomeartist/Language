{
 "cells": [
  {
   "cell_type": "code",
   "execution_count": 1,
   "metadata": {},
   "outputs": [
    {
     "name": "stdout",
     "output_type": "stream",
     "text": [
      "[(4, 2), (2, 1), (1, 1), (3, 1)]\n",
      "[(4, 2)]\n",
      "[(4, 2), (2, 1)]\n"
     ]
    }
   ],
   "source": [
    "from collections import Counter\n",
    "\n",
    "simplelist = [4, 2, 1, 3, 4]\n",
    "c = Counter(simplelist)\n",
    "\n",
    "print(c.most_common())\n",
    "print(c.most_common(1))\n",
    "print(c.most_common(2))"
   ]
  },
  {
   "cell_type": "code",
   "execution_count": 2,
   "metadata": {},
   "outputs": [
    {
     "name": "stdout",
     "output_type": "stream",
     "text": [
      "(4, 2)\n",
      "4\n"
     ]
    }
   ],
   "source": [
    "from collections import Counter\n",
    "\n",
    "simplelist = [4, 2, 1, 3, 4]\n",
    "c = Counter(simplelist)\n",
    "\n",
    "mode = c.most_common(1)     # return a list of tuple\n",
    "print(mode[0])              # return the first tuple of the list\n",
    "print(mode[0][0])           # ret the most frequently element of a list"
   ]
  }
 ],
 "metadata": {
  "kernelspec": {
   "display_name": "math",
   "language": "python",
   "name": "python3"
  },
  "language_info": {
   "codemirror_mode": {
    "name": "ipython",
    "version": 3
   },
   "file_extension": ".py",
   "mimetype": "text/x-python",
   "name": "python",
   "nbconvert_exporter": "python",
   "pygments_lexer": "ipython3",
   "version": "3.9.19"
  }
 },
 "nbformat": 4,
 "nbformat_minor": 2
}
