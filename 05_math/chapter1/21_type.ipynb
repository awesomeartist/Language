{
 "cells": [
  {
   "cell_type": "markdown",
   "metadata": {},
   "source": [
    "### 1.2.1 different kinds of numbers"
   ]
  },
  {
   "cell_type": "code",
   "execution_count": 5,
   "metadata": {},
   "outputs": [
    {
     "name": "stdout",
     "output_type": "stream",
     "text": [
      "a = 3\n",
      "b = 3.0\n",
      "c = 3.5\n",
      "type(a) <class 'int'>\n",
      "type(b) <class 'float'>\n",
      "int(b) = 3\n",
      "int(c) = 3\n",
      "type(int(c)) <class 'int'>\n",
      "type(float(a)) <class 'float'>\n"
     ]
    }
   ],
   "source": [
    "a = 3\n",
    "b = 3.0\n",
    "c = 3.5\n",
    "print(\"a = \", a, '\\n', \"b = \", b, '\\n', \"c = \", c, sep='')\n",
    "print(\"type(a)\", type(a))\n",
    "print(\"type(b)\", type(b))\n",
    "print(\"int(b) =\", int(b))\n",
    "print(\"int(c) =\", int(c))\n",
    "print(\"type(int(c))\", type(int(c)))\n",
    "print(\"type(float(a))\", type(float(a)))"
   ]
  },
  {
   "cell_type": "markdown",
   "metadata": {},
   "source": [
    "### 1.2.2 working with fraction"
   ]
  },
  {
   "cell_type": "code",
   "execution_count": 6,
   "metadata": {},
   "outputs": [
    {
     "name": "stdout",
     "output_type": "stream",
     "text": [
      "Fraction(3, 4) = 3/4\n",
      "Fraction(3, 4) + 1 + 1.5= 3.0\n",
      "Fraction(3, 4) + 1 + Fraction(1, 4) = 2\n"
     ]
    }
   ],
   "source": [
    "from fractions import Fraction\n",
    "f = Fraction(3, 4)\n",
    "print(\"Fraction(3, 4) =\", f)\n",
    "print(\"Fraction(3, 4) + 1 + 1.5=\", Fraction(3, 4) + 1 + 1.25)\n",
    "print(\"Fraction(3, 4) + 1 + Fraction(1, 4) =\", Fraction(3, 4) + 1 + Fraction(1, 4))"
   ]
  },
  {
   "cell_type": "markdown",
   "metadata": {},
   "source": [
    "### 1.2.3 complex numbers"
   ]
  },
  {
   "cell_type": "code",
   "execution_count": 7,
   "metadata": {},
   "outputs": [
    {
     "name": "stdout",
     "output_type": "stream",
     "text": [
      "a =(2+3j)\n",
      "b =(3+3j)\n",
      "type(a) <class 'complex'>\n",
      "a.real =2.0\n",
      "b.imag =3.0\n",
      "a + b = (5+6j)\n",
      "a * b = (-3+15j)\n",
      "a / b = (0.8333333333333334+0.16666666666666666j)\n",
      "a.conjugate() = (2-3j)\n",
      "(a.real**2 + a.imag**2)**(1/2) = 3.605551275463989\n",
      "abs(a) = 3.605551275463989\n"
     ]
    }
   ],
   "source": [
    "a = 2 + 3j\n",
    "b = complex(3, 3)\n",
    "print(\"a =\", a, '\\n', \"b =\", b, sep='')\n",
    "print(\"type(a)\", type(a))\n",
    "print(\"a.real =\", a.real, '\\n', \"b.imag =\", b.imag, sep='')\n",
    "print(\"a + b =\", a+b)\n",
    "print(\"a * b =\", a*b)\n",
    "print(\"a / b =\", a/b)\n",
    "print(\"a.conjugate() =\", a.conjugate())\n",
    "print(\"(a.real**2 + a.imag**2)**(1/2) =\", (a.real** 2 + a.imag**2)**(1/2))\n",
    "print(\"abs(a) =\", abs(a))"
   ]
  }
 ],
 "metadata": {
  "kernelspec": {
   "display_name": "math",
   "language": "python",
   "name": "python3"
  },
  "language_info": {
   "codemirror_mode": {
    "name": "ipython",
    "version": 3
   },
   "file_extension": ".py",
   "mimetype": "text/x-python",
   "name": "python",
   "nbconvert_exporter": "python",
   "pygments_lexer": "ipython3",
   "version": "3.9.19"
  }
 },
 "nbformat": 4,
 "nbformat_minor": 2
}
