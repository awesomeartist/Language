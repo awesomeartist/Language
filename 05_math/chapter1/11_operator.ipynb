{
 "cells": [
  {
   "cell_type": "markdown",
   "metadata": {},
   "source": [
    "## 1.1 Basic Mathematical Operation"
   ]
  },
  {
   "cell_type": "markdown",
   "metadata": {},
   "source": [
    "### 1.1.1 add and substrate"
   ]
  },
  {
   "cell_type": "code",
   "execution_count": 9,
   "metadata": {},
   "outputs": [
    {
     "name": "stdout",
     "output_type": "stream",
     "text": [
      "1 + 2 = 3\n",
      "1 + 1.5 = 2.5\n",
      "-1 + 3 = 2\n",
      "100 - 49 = 51\n",
      "-1.2 + 6 = 4.8\n"
     ]
    }
   ],
   "source": [
    "print(\"1 + 2 =\", 1+2)\n",
    "print(\"1 + 1.5 =\", 1+1.5)\n",
    "print(\"-1 + 3 =\", -1+3)\n",
    "print(\"100 - 49 =\", 100-49)\n",
    "print(\"-1.2 + 6 =\", -1.2+6)"
   ]
  },
  {
   "cell_type": "markdown",
   "metadata": {},
   "source": [
    "### 1.1.2 multiply and divide"
   ]
  },
  {
   "cell_type": "code",
   "execution_count": 10,
   "metadata": {},
   "outputs": [
    {
     "name": "stdout",
     "output_type": "stream",
     "text": [
      "2 * 3 = 6\n",
      "-1.5 * 5 = -7.5\n",
      "2 / 3 = 0.6666666666666666\n",
      "2.0 / 3 = 0.6666666666666666\n"
     ]
    }
   ],
   "source": [
    "print(\"2 * 3 =\", 2*3)\n",
    "print(\"-1.5 * 5 =\", -1.5* 5)\n",
    "print(\"2 / 3 =\", 2/3)\n",
    "print(\"2.0 / 3 =\", 2.0/3)"
   ]
  },
  {
   "cell_type": "markdown",
   "metadata": {},
   "source": [
    "### 1.1.3 floor divide and modulo"
   ]
  },
  {
   "cell_type": "code",
   "execution_count": 11,
   "metadata": {},
   "outputs": [
    {
     "name": "stdout",
     "output_type": "stream",
     "text": [
      "5 // 2 = 1\n",
      "-5 // 3 = -2\n",
      "5 % 2 = 1\n",
      "-5 % 2 = 1\n"
     ]
    }
   ],
   "source": [
    "print(\"5 // 2 =\", 3//2)\n",
    "print(\"-5 // 3 =\", -3//2)\n",
    "print(\"5 % 2 =\", 5%2)\n",
    "print(\"-5 % 2 =\", -5%2)"
   ]
  },
  {
   "cell_type": "markdown",
   "metadata": {},
   "source": [
    "### 1.1.4 power and parentheses"
   ]
  },
  {
   "cell_type": "code",
   "execution_count": 12,
   "metadata": {},
   "outputs": [
    {
     "name": "stdout",
     "output_type": "stream",
     "text": [
      "2^3 = 8\n",
      "8^(1/3) = 2.0\n",
      "5 + 5 * 5 = 30\n",
      "(5 + 5) * 5 = 50\n"
     ]
    }
   ],
   "source": [
    "print(\"2^3 =\", 2**3)\n",
    "print(\"8^(1/3) =\", 8**(1/3))\n",
    "print(\"5 + 5 * 5 =\", 5+5*5)\n",
    "print(\"(5 + 5) * 5 =\", (5+5)*5)"
   ]
  }
 ],
 "metadata": {
  "kernelspec": {
   "display_name": "yolov5",
   "language": "python",
   "name": "python3"
  },
  "language_info": {
   "codemirror_mode": {
    "name": "ipython",
    "version": 3
   },
   "file_extension": ".py",
   "mimetype": "text/x-python",
   "name": "python",
   "nbconvert_exporter": "python",
   "pygments_lexer": "ipython3",
   "version": "3.9.19"
  }
 },
 "nbformat": 4,
 "nbformat_minor": 2
}
