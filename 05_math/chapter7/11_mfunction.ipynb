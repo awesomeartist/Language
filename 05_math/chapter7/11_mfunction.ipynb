{
 "cells": [
  {
   "cell_type": "markdown",
   "metadata": {},
   "source": [
    "### 7.1.1 An Overview of Common Mathematical Functions"
   ]
  },
  {
   "cell_type": "code",
   "execution_count": 2,
   "metadata": {},
   "outputs": [
    {
     "name": "stdout",
     "output_type": "stream",
     "text": [
      "math.sin(math.pi/2) = 1.0\n",
      "sympy.sin(math.pi/2) = 1.0\n"
     ]
    }
   ],
   "source": [
    "# Case 1\n",
    "\n",
    "import math\n",
    "import sympy\n",
    "\n",
    "print('math.sin(math.pi/2) = {0}'.format(math.sin(math.pi/2)))\n",
    "print('sympy.sin(math.pi/2) = {0}'.format(math.sin(math.pi/2)))"
   ]
  },
  {
   "cell_type": "code",
   "execution_count": null,
   "metadata": {},
   "outputs": [],
   "source": [
    "# Case 2\n",
    "\n",
    "from sympy import Symbol\n",
    "theta = Symbol('theta')\n",
    "print(sympy.sin(theta)+sympy.sin(theta))\n",
    "print(math.sin(theta)+math.sin(theta))"
   ]
  },
  {
   "cell_type": "code",
   "execution_count": 4,
   "metadata": {},
   "outputs": [
    {
     "data": {
      "text/plain": [
       "[u*sin(theta)/g]"
      ]
     },
     "execution_count": 4,
     "metadata": {},
     "output_type": "execute_result"
    }
   ],
   "source": [
    "# Case 3\n",
    "\n",
    "from sympy import sin, solve, symbols\n",
    "\n",
    "u, t, g = symbols('u, t, g')\n",
    "theta = symbols('theta')\n",
    "solve(u*sin(theta)-g*t, t)"
   ]
  }
 ],
 "metadata": {
  "kernelspec": {
   "display_name": "math",
   "language": "python",
   "name": "python3"
  },
  "language_info": {
   "codemirror_mode": {
    "name": "ipython",
    "version": 3
   },
   "file_extension": ".py",
   "mimetype": "text/x-python",
   "name": "python",
   "nbconvert_exporter": "python",
   "pygments_lexer": "ipython3",
   "version": "3.9.19"
  }
 },
 "nbformat": 4,
 "nbformat_minor": 2
}
