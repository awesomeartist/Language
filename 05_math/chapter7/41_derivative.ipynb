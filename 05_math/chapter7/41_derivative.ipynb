{
 "cells": [
  {
   "cell_type": "markdown",
   "metadata": {},
   "source": [
    "## 7.4 Finding the Derivative of Functions"
   ]
  },
  {
   "cell_type": "code",
   "execution_count": 8,
   "metadata": {},
   "outputs": [
    {
     "data": {
      "text/latex": [
       "$\\displaystyle \\frac{d}{d t} \\left(5 t^{2} + 2 t + 8\\right)$"
      ],
      "text/plain": [
       "Derivative(5*t**2 + 2*t + 8, t)"
      ]
     },
     "metadata": {},
     "output_type": "display_data"
    },
    {
     "data": {
      "text/latex": [
       "$\\displaystyle 10 t + 2$"
      ],
      "text/plain": [
       "10*t + 2"
      ]
     },
     "metadata": {},
     "output_type": "display_data"
    },
    {
     "data": {
      "text/latex": [
       "$\\displaystyle 10 t_{1} + 2$"
      ],
      "text/plain": [
       "10*t1 + 2"
      ]
     },
     "metadata": {},
     "output_type": "display_data"
    },
    {
     "data": {
      "text/latex": [
       "$\\displaystyle 12$"
      ],
      "text/plain": [
       "12"
      ]
     },
     "metadata": {},
     "output_type": "display_data"
    }
   ],
   "source": [
    "# Case 1\n",
    "\n",
    "from sympy import Symbol, Derivative\n",
    "from IPython.display import display\n",
    "\n",
    "t = Symbol('t')\n",
    "t1 = Symbol('t1')\n",
    "St = 5*t**2 + 2*t + 8\n",
    "\n",
    "d = Derivative(St, t)\n",
    "display(d, d.doit())\n",
    "display(d.doit().subs({t:t1})) \n",
    "display(d.doit().subs({t:1}))\n"
   ]
  },
  {
   "cell_type": "code",
   "execution_count": 2,
   "metadata": {},
   "outputs": [
    {
     "data": {
      "text/latex": [
       "$\\displaystyle 5 x^{4} + 8 x^{3} + 6 x^{2} + 2 x$"
      ],
      "text/plain": [
       "5*x**4 + 8*x**3 + 6*x**2 + 2*x"
      ]
     },
     "execution_count": 2,
     "metadata": {},
     "output_type": "execute_result"
    }
   ],
   "source": [
    "from sympy import Symbol, Derivative, expand\n",
    "\n",
    "x = Symbol('x')\n",
    "f = (x**3 + x**2 +x)*(x**2+x)\n",
    "d = Derivative(f, x).doit()\n",
    "expand(d)"
   ]
  }
 ],
 "metadata": {
  "kernelspec": {
   "display_name": "math",
   "language": "python",
   "name": "python3"
  },
  "language_info": {
   "codemirror_mode": {
    "name": "ipython",
    "version": 3
   },
   "file_extension": ".py",
   "mimetype": "text/x-python",
   "name": "python",
   "nbconvert_exporter": "python",
   "pygments_lexer": "ipython3",
   "version": "3.9.19"
  }
 },
 "nbformat": 4,
 "nbformat_minor": 2
}
