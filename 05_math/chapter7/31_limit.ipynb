{
 "cells": [
  {
   "cell_type": "markdown",
   "metadata": {},
   "source": [
    "## 7.3 Finding the limit of Functions"
   ]
  },
  {
   "cell_type": "code",
   "execution_count": 25,
   "metadata": {},
   "outputs": [
    {
     "data": {
      "text/latex": [
       "$$\\lim_{x \\to \\infty} \\frac 1 x = $$"
      ],
      "text/plain": [
       "<IPython.core.display.Latex object>"
      ]
     },
     "metadata": {},
     "output_type": "display_data"
    },
    {
     "data": {
      "text/latex": [
       "$\\displaystyle 0$"
      ],
      "text/plain": [
       "0"
      ]
     },
     "metadata": {},
     "output_type": "display_data"
    }
   ],
   "source": [
    "# Case 1\n",
    "\n",
    "from sympy import Limit, Symbol, S\n",
    "from IPython.display import display, Latex\n",
    "\n",
    "x = Symbol('x')\n",
    "l = Limit(1/x, x, S.Infinity)\n",
    "\n",
    "display(Latex(r'$$\\lim_{x \\to \\infty} \\frac 1 x = $$'), l.doit())"
   ]
  },
  {
   "cell_type": "code",
   "execution_count": 28,
   "metadata": {},
   "outputs": [
    {
     "data": {
      "text/latex": [
       "$$\\lim_{x \\to 0^-} \\frac 1 x = $$"
      ],
      "text/plain": [
       "<IPython.core.display.Latex object>"
      ]
     },
     "metadata": {},
     "output_type": "display_data"
    },
    {
     "data": {
      "text/latex": [
       "$\\displaystyle -\\infty$"
      ],
      "text/plain": [
       "-oo"
      ]
     },
     "metadata": {},
     "output_type": "display_data"
    }
   ],
   "source": [
    "# Case 2\n",
    "\n",
    "from sympy import Limit, Symbol, S\n",
    "from IPython.display import display, Latex\n",
    "\n",
    "x = Symbol('x')\n",
    "l = Limit(1/x, x, 0, dir='-')\n",
    "\n",
    "display(Latex(r'$$\\lim_{x \\to 0^-} \\frac 1 x = $$'), l.doit())"
   ]
  },
  {
   "cell_type": "code",
   "execution_count": 2,
   "metadata": {},
   "outputs": [
    {
     "data": {
      "text/latex": [
       "$$\\lim_{x \\to 0} \\frac {x-\\arctan x} {x^3} = $$"
      ],
      "text/plain": [
       "<IPython.core.display.Latex object>"
      ]
     },
     "metadata": {},
     "output_type": "display_data"
    },
    {
     "data": {
      "text/latex": [
       "$\\displaystyle \\frac{1}{3}$"
      ],
      "text/plain": [
       "1/3"
      ]
     },
     "metadata": {},
     "output_type": "display_data"
    }
   ],
   "source": [
    "# Case 3\n",
    "\n",
    "from sympy import Limit, Symbol, atan\n",
    "from IPython.display import display, Latex\n",
    "\n",
    "x = Symbol('x')\n",
    "l = Limit((x-atan(x))/x**3, x, 0)\n",
    "\n",
    "display(Latex(r'$$\\lim_{x \\to 0} \\frac {x-\\arctan x} {x^3} = $$'), l.doit())"
   ]
  },
  {
   "cell_type": "markdown",
   "metadata": {},
   "source": [
    "### 7.3.1 Continuous Compound Interest"
   ]
  },
  {
   "cell_type": "code",
   "execution_count": 6,
   "metadata": {},
   "outputs": [
    {
     "data": {
      "text/latex": [
       "$$\\lim_{n \\to \\infty} \\left(1+\\frac 1 n\\right)^n = $$"
      ],
      "text/plain": [
       "<IPython.core.display.Latex object>"
      ]
     },
     "metadata": {},
     "output_type": "display_data"
    },
    {
     "data": {
      "text/latex": [
       "$\\displaystyle e$"
      ],
      "text/plain": [
       "E"
      ]
     },
     "metadata": {},
     "output_type": "display_data"
    }
   ],
   "source": [
    "# Case 1\n",
    "\n",
    "from sympy import Limit, Symbol, S\n",
    "from IPython.display import display, Latex\n",
    "\n",
    "n = Symbol('n')\n",
    "l = Limit((1+1/n)**n, n, S.Infinity).doit()\n",
    "display(Latex(r'$$\\lim_{n \\to \\infty} \\left(1+\\frac 1 n\\right)^n = $$'), l)\n"
   ]
  },
  {
   "cell_type": "code",
   "execution_count": 12,
   "metadata": {},
   "outputs": [
    {
     "data": {
      "text/latex": [
       "$$\\lim_{n \\to \\infty} p \\left(1+\\frac r n\\right)^{nt} = $$"
      ],
      "text/plain": [
       "<IPython.core.display.Latex object>"
      ]
     },
     "metadata": {},
     "output_type": "display_data"
    },
    {
     "data": {
      "text/latex": [
       "$\\displaystyle p e^{r t}$"
      ],
      "text/plain": [
       "p*exp(r*t)"
      ]
     },
     "metadata": {},
     "output_type": "display_data"
    }
   ],
   "source": [
    "# Case 2\n",
    "\n",
    "from sympy import Limit, symbols, S\n",
    "from IPython.display import display, Latex\n",
    "\n",
    "p, r, t = symbols('p, r, t')\n",
    "l = Limit(p*(1+r/n)**(n*t), n, S.Infinity).doit()\n",
    "display(Latex(r'$$\\lim_{n \\to \\infty} p \\left(1+\\frac r n\\right)^{nt} = $$'), l)"
   ]
  },
  {
   "cell_type": "markdown",
   "metadata": {},
   "source": [
    "### 7.3.2 Instantaneous Rate of Change"
   ]
  },
  {
   "cell_type": "code",
   "execution_count": 14,
   "metadata": {},
   "outputs": [
    {
     "data": {
      "text/latex": [
       "$\\displaystyle 10 t + 2$"
      ],
      "text/plain": [
       "10*t + 2"
      ]
     },
     "execution_count": 14,
     "metadata": {},
     "output_type": "execute_result"
    }
   ],
   "source": [
    "\n",
    "from sympy import Symbol, Limit\n",
    "from IPython.display import display\n",
    "\n",
    "t = Symbol('t')\n",
    "St = 5*t**2 + 2*t +8\n",
    "\n",
    "t1 = Symbol('t1')\n",
    "delta_t = Symbol('delta_t')\n",
    "\n",
    "# St1 = St.subs({t:t1})\n",
    "St1_delta = St.subs({t: t + delta_t})\n",
    "\n",
    "Limit((St1_delta-St)/delta_t, delta_t, 0).doit()"
   ]
  }
 ],
 "metadata": {
  "kernelspec": {
   "display_name": "math",
   "language": "python",
   "name": "python3"
  },
  "language_info": {
   "codemirror_mode": {
    "name": "ipython",
    "version": 3
   },
   "file_extension": ".py",
   "mimetype": "text/x-python",
   "name": "python",
   "nbconvert_exporter": "python",
   "pygments_lexer": "ipython3",
   "version": "3.9.19"
  }
 },
 "nbformat": 4,
 "nbformat_minor": 2
}
