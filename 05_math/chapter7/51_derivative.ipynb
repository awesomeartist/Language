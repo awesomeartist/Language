{
 "cells": [
  {
   "cell_type": "markdown",
   "metadata": {},
   "source": [
    "### 7.5 Higher-Order Derivatives and Finding the Maxima and Minima"
   ]
  },
  {
   "cell_type": "code",
   "execution_count": 1,
   "metadata": {},
   "outputs": [],
   "source": [
    "# Step 1\n",
    "\n",
    "from sympy import Symbol, solve, Derivative\n",
    "\n",
    "x = Symbol('x')\n",
    "f = x**5 - 30*x**3 + 50*x\n",
    "d1 = Derivative(f, x).doit()"
   ]
  },
  {
   "cell_type": "code",
   "execution_count": 4,
   "metadata": {},
   "outputs": [
    {
     "data": {
      "text/latex": [
       "$\\displaystyle - \\sqrt{9 - \\sqrt{71}}$"
      ],
      "text/plain": [
       "-sqrt(9 - sqrt(71))"
      ]
     },
     "metadata": {},
     "output_type": "display_data"
    },
    {
     "data": {
      "text/latex": [
       "$\\displaystyle \\sqrt{9 - \\sqrt{71}}$"
      ],
      "text/plain": [
       "sqrt(9 - sqrt(71))"
      ]
     },
     "metadata": {},
     "output_type": "display_data"
    },
    {
     "data": {
      "text/latex": [
       "$\\displaystyle - \\sqrt{\\sqrt{71} + 9}$"
      ],
      "text/plain": [
       "-sqrt(sqrt(71) + 9)"
      ]
     },
     "metadata": {},
     "output_type": "display_data"
    },
    {
     "data": {
      "text/latex": [
       "$\\displaystyle \\sqrt{\\sqrt{71} + 9}$"
      ],
      "text/plain": [
       "sqrt(sqrt(71) + 9)"
      ]
     },
     "metadata": {},
     "output_type": "display_data"
    }
   ],
   "source": [
    "# Step 2\n",
    "from IPython.display import display\n",
    "\n",
    "critical_points = solve(d1)\n",
    "for item in critical_points:\n",
    "    display(item)"
   ]
  },
  {
   "cell_type": "code",
   "execution_count": 8,
   "metadata": {},
   "outputs": [
    {
     "name": "stdout",
     "output_type": "stream",
     "text": [
      "127.661060789073\n",
      "-127.661060789073\n",
      "-703.493179468151\n",
      "703.493179468151\n"
     ]
    }
   ],
   "source": [
    "# Step 3\n",
    "\n",
    "A = critical_points[0]\n",
    "B = critical_points[1]\n",
    "C = critical_points[2]\n",
    "D = critical_points[3]\n",
    "\n",
    "d2 = Derivative(f, x, 2).doit()\n",
    "\n",
    "print(d2.subs({x:A}).evalf())\n",
    "print(d2.subs({x:B}).evalf())\n",
    "print(d2.subs({x:C}).evalf())\n",
    "print(d2.subs({x:D}).evalf())"
   ]
  },
  {
   "cell_type": "code",
   "execution_count": 9,
   "metadata": {},
   "outputs": [
    {
     "name": "stdout",
     "output_type": "stream",
     "text": [
      "-25.0846626340294\n",
      "-705.959460380365\n",
      "375.000000000000\n",
      "-375.000000000000\n"
     ]
    }
   ],
   "source": [
    "# Step 4\n",
    "# Find the minimum\n",
    "\n",
    "x_min = -5\n",
    "x_max = 5\n",
    "\n",
    "print(f.subs({x:A}).evalf())\n",
    "print(f.subs({x:D}).evalf())\n",
    "print(f.subs({x:x_min}).evalf())\n",
    "print(f.subs({x:x_max}).evalf())"
   ]
  },
  {
   "cell_type": "code",
   "execution_count": 10,
   "metadata": {},
   "outputs": [
    {
     "name": "stdout",
     "output_type": "stream",
     "text": [
      "25.0846626340294\n",
      "705.959460380365\n",
      "375.000000000000\n",
      "-375.000000000000\n"
     ]
    }
   ],
   "source": [
    "# Step 5\n",
    "# Find the maximum\n",
    "\n",
    "x_min = -5\n",
    "x_max = 5\n",
    "\n",
    "print(f.subs({x:B}).evalf())\n",
    "print(f.subs({x:C}).evalf())\n",
    "print(f.subs({x:x_min}).evalf())\n",
    "print(f.subs({x:x_max}).evalf())"
   ]
  }
 ],
 "metadata": {
  "kernelspec": {
   "display_name": "math",
   "language": "python",
   "name": "python3"
  },
  "language_info": {
   "codemirror_mode": {
    "name": "ipython",
    "version": 3
   },
   "file_extension": ".py",
   "mimetype": "text/x-python",
   "name": "python",
   "nbconvert_exporter": "python",
   "pygments_lexer": "ipython3",
   "version": "3.9.19"
  }
 },
 "nbformat": 4,
 "nbformat_minor": 2
}
