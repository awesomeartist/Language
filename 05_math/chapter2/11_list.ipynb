{
 "cells": [
  {
   "cell_type": "markdown",
   "metadata": {},
   "source": [
    "### 2.1.1 Initiate a list"
   ]
  },
  {
   "cell_type": "code",
   "execution_count": 3,
   "metadata": {},
   "outputs": [
    {
     "name": "stdout",
     "output_type": "stream",
     "text": [
      "nSimpleList[1] = 2\n",
      "sSimpleList[1] = b string\n"
     ]
    }
   ],
   "source": [
    "nSimpleList = [1, 2, 3]\n",
    "sSimpleList = ['a string', 'b string', 'c string']\n",
    "print('nSimpleList[1] =', nSimpleList[1])\n",
    "print('sSimpleList[1] =', sSimpleList[1])"
   ]
  },
  {
   "cell_type": "code",
   "execution_count": 4,
   "metadata": {},
   "outputs": [
    {
     "name": "stdout",
     "output_type": "stream",
     "text": [
      "nEmptyList[1] = 2\n"
     ]
    }
   ],
   "source": [
    "nEmptyList = []\n",
    "nEmptyList.append(1)\n",
    "nEmptyList.append(2)\n",
    "print('nEmptyList[1] =', nEmptyList[1])"
   ]
  },
  {
   "cell_type": "markdown",
   "metadata": {},
   "source": [
    "### 2.1.2 Initiate a tuple"
   ]
  },
  {
   "cell_type": "code",
   "execution_count": 5,
   "metadata": {},
   "outputs": [
    {
     "name": "stdout",
     "output_type": "stream",
     "text": [
      "nSimpleTuple[1] = 2\n"
     ]
    }
   ],
   "source": [
    "nSimpleTuple = (1, 2, 3)\n",
    "print('nSimpleTuple[1] =', nSimpleTuple[1])\n"
   ]
  },
  {
   "cell_type": "markdown",
   "metadata": {},
   "source": [
    "### 2.1.3 Iterating over a List or Tuple"
   ]
  },
  {
   "cell_type": "code",
   "execution_count": 6,
   "metadata": {},
   "outputs": [
    {
     "name": "stdout",
     "output_type": "stream",
     "text": [
      "4\n",
      "5\n",
      "6\n"
     ]
    }
   ],
   "source": [
    "nNumberList = [i for i in range(4, 7)]\n",
    "for item in nNumberList:\n",
    "    print(item)"
   ]
  },
  {
   "cell_type": "code",
   "execution_count": 7,
   "metadata": {},
   "outputs": [
    {
     "name": "stdout",
     "output_type": "stream",
     "text": [
      "0 4\n",
      "1 5\n",
      "2 6\n"
     ]
    }
   ],
   "source": [
    "nNumberList = [i for i in range(4, 7)]\n",
    "for index, item in enumerate(nNumberList):\n",
    "    print(index, item)"
   ]
  }
 ],
 "metadata": {
  "kernelspec": {
   "display_name": "math",
   "language": "python",
   "name": "python3"
  },
  "language_info": {
   "codemirror_mode": {
    "name": "ipython",
    "version": 3
   },
   "file_extension": ".py",
   "mimetype": "text/x-python",
   "name": "python",
   "nbconvert_exporter": "python",
   "pygments_lexer": "ipython3",
   "version": "3.9.19"
  }
 },
 "nbformat": 4,
 "nbformat_minor": 2
}
