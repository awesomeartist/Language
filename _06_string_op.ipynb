{
 "metadata": {
  "language_info": {
   "codemirror_mode": {
    "name": "ipython",
    "version": 3
   },
   "file_extension": ".py",
   "mimetype": "text/x-python",
   "name": "python",
   "nbconvert_exporter": "python",
   "pygments_lexer": "ipython3",
   "version": "3.7.0"
  },
  "orig_nbformat": 2,
  "kernelspec": {
   "name": "python370jvsc74a57bd0429c9996d59adc7f4cefc806ef40bdc5f24259d7042b8b8803fdb2f234fb1764",
   "display_name": "Python 3.7.0 64-bit ('base': conda)"
  }
 },
 "nbformat": 4,
 "nbformat_minor": 2,
 "cells": [
  {
   "source": [
    "### 字符串操作方法`insert()`"
   ],
   "cell_type": "markdown",
   "metadata": {}
  },
  {
   "cell_type": "code",
   "execution_count": 2,
   "metadata": {},
   "outputs": [
    {
     "output_type": "stream",
     "name": "stdout",
     "text": [
      "str1[:7] = I love \nAfter insert char:\nstr1 = I love insert char bilibili.com\n"
     ]
    }
   ],
   "source": [
    "\n",
    "str1 = 'I love bilibili.com'\n",
    "print('str1[:7] =', str1[:7])\n",
    "\n",
    "print('After insert char:')\n",
    "str1 = str1[:7] + 'insert char ' + str1[7:]\n",
    "print('str1 =', str1)\n"
   ]
  },
  {
   "source": [
    "### 字符串操作方法`capitalize()`"
   ],
   "cell_type": "markdown",
   "metadata": {}
  },
  {
   "cell_type": "code",
   "execution_count": 5,
   "metadata": {},
   "outputs": [
    {
     "output_type": "stream",
     "name": "stdout",
     "text": [
      "Before:\nstr2 = xiaoxie\nAfter:\nstr2 = xiaoxie\nstr3 = Xiaoxie\n"
     ]
    }
   ],
   "source": [
    "\n",
    "str2 = 'xiaoxie'\n",
    "print('Before:')\n",
    "print('str2 =', str2)\n",
    "str3 = str2.capitalize() #返回一个新的字符串，原字符串不改变\n",
    "print('After:')\n",
    "print('str2 =', str2)\n",
    "print('str3 =', str3)"
   ]
  },
  {
   "source": [
    "### 字符串操作方法`casefold()`"
   ],
   "cell_type": "markdown",
   "metadata": {}
  },
  {
   "cell_type": "code",
   "execution_count": 11,
   "metadata": {},
   "outputs": [
    {
     "output_type": "stream",
     "name": "stdout",
     "text": [
      "Before:\nstr3 = DAXIExiaoxie\nAfter:\nstr3 = daxiexiaoxie\n"
     ]
    }
   ],
   "source": [
    "str3 = 'DAXIExiaoxie'\n",
    "print('Before:')\n",
    "print('str3 =', str3)\n",
    "str3 = str3.casefold()  #将所有大写转换为小写，范围大于A-Z，对其他存在大小写的字符也有效\n",
    "print('After:')\n",
    "print('str3 =', str3)\n",
    "\n",
    "\n",
    "# str1 = \"I Love Python\"\n",
    "# str2 = \"Groß - α\" #德语 大写α\n",
    "# print(str1.casefold())\n",
    "# print(str1.lower())\n",
    "# print(str2.casefold())\n",
    "# print(str2.lower())"
   ]
  },
  {
   "cell_type": "code",
   "execution_count": 12,
   "metadata": {},
   "outputs": [
    {
     "output_type": "stream",
     "name": "stdout",
     "text": [
      "str3 =               daxiexiaoxie              \n2\nFalse\n"
     ]
    }
   ],
   "source": [
    "str3 = str3.center(40)\n",
    "print('str3 =', str3)\n",
    "print(str3.count('a'))\n",
    "print(str3.endswith('xie'))"
   ]
  },
  {
   "cell_type": "code",
   "execution_count": 13,
   "metadata": {},
   "outputs": [
    {
     "output_type": "stream",
     "name": "stdout",
     "text": [
      "I\tlove\tbilibili.com\nI       love    bilibili.com\n"
     ]
    }
   ],
   "source": [
    "str4 = 'I\\tlove\\tbilibili.com'\n",
    "print(str4)\n",
    "str4 = str4.expandtabs()\n",
    "print(str4)"
   ]
  },
  {
   "cell_type": "code",
   "execution_count": 14,
   "metadata": {},
   "outputs": [
    {
     "output_type": "stream",
     "name": "stdout",
     "text": [
      "16\nFalse\nFalse\nFalse\nFalse\nFalse\n"
     ]
    }
   ],
   "source": [
    "print(str4.find('bili'))\n",
    "print(str4.isalpha())\n",
    "print(str4.isalnum())\n",
    "print(str4.isdigit())\n",
    "print(str4.islower())\n",
    "print(str4.istitle())\n",
    "#..."
   ]
  },
  {
   "cell_type": "code",
   "execution_count": null,
   "metadata": {},
   "outputs": [],
   "source": []
  }
 ]
}