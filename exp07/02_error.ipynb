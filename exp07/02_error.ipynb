{
 "cells": [
  {
   "cell_type": "code",
   "execution_count": null,
   "metadata": {},
   "outputs": [],
   "source": [
    "try:\n",
    "    int('abc')\n",
    "except ValueError as reason:\n",
    "    print('出错啦T_T:' + str(reason))\n",
    "else:\n",
    "    print('没有任何异常！')"
   ]
  },
  {
   "cell_type": "code",
   "execution_count": null,
   "metadata": {},
   "outputs": [],
   "source": [
    "try:\n",
    "    with open('test_file.txt', 'wb') as f:\n",
    "        for each_line in f:\n",
    "            print(each_line)\n",
    "\n",
    "except OSError as reason:\n",
    "    print('文件出错啦T_T ' + str(reason))\n",
    "# finally:\n",
    "#     f.close()"
   ]
  }
 ],
 "metadata": {
  "kernelspec": {
   "display_name": "base",
   "language": "python",
   "name": "python3"
  },
  "language_info": {
   "codemirror_mode": {
    "name": "ipython",
    "version": 3
   },
   "file_extension": ".py",
   "mimetype": "text/x-python",
   "name": "python",
   "nbconvert_exporter": "python",
   "pygments_lexer": "ipython3",
   "version": "3.9.13"
  },
  "orig_nbformat": 2,
  "vscode": {
   "interpreter": {
    "hash": "d90689ccb134b02d2b717750ee46bb350a63570d9feb13d7ed55128a5122d130"
   }
  }
 },
 "nbformat": 4,
 "nbformat_minor": 2
}
