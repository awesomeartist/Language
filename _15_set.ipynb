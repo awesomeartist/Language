{
 "metadata": {
  "language_info": {
   "codemirror_mode": {
    "name": "ipython",
    "version": 3
   },
   "file_extension": ".py",
   "mimetype": "text/x-python",
   "name": "python",
   "nbconvert_exporter": "python",
   "pygments_lexer": "ipython3",
   "version": "3.7.0"
  },
  "orig_nbformat": 2,
  "kernelspec": {
   "name": "python370jvsc74a57bd0429c9996d59adc7f4cefc806ef40bdc5f24259d7042b8b8803fdb2f234fb1764",
   "display_name": "Python 3.7.0 64-bit ('base': conda)"
  }
 },
 "nbformat": 4,
 "nbformat_minor": 2,
 "cells": [
  {
   "source": [
    "### 集合创建"
   ],
   "cell_type": "markdown",
   "metadata": {}
  },
  {
   "cell_type": "code",
   "execution_count": null,
   "metadata": {},
   "outputs": [],
   "source": [
    "num1 = {1,2,4,4,3,5,0}\n",
    "num2 = [2,3,3,3,4,5,6,6,7,0]\n",
    "print('type(num1) = ', type(num1),'\\nnum = :',num1)\n",
    "print('num2 =',num2)\n",
    "temp = set(num2)    #会将原列表中的元素进行排序再返回\n",
    "print('type(temp) = ',type(temp),'\\ntemp = ',temp)\n",
    "num1.add(9)\n",
    "print('num1 = ',num1)\n",
    "num1.remove(5)\n",
    "print('num1 = ',num1)\n",
    "\n"
   ]
  },
  {
   "source": [
    "### 不可变集合(方法)frozenset"
   ],
   "cell_type": "markdown",
   "metadata": {}
  },
  {
   "cell_type": "code",
   "execution_count": null,
   "metadata": {},
   "outputs": [],
   "source": [
    "num3 = frozenset([1,2,3,4,5])\n",
    "print('num3 = ',num3)\n",
    "# num3.add(5)   #报错"
   ]
  },
  {
   "cell_type": "code",
   "execution_count": null,
   "metadata": {},
   "outputs": [],
   "source": []
  }
 ]
}